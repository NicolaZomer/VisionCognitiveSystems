{
  "cells": [
    {
      "cell_type": "markdown",
      "metadata": {
        "id": "GalTZgKkwGIo"
      },
      "source": [
        "#  **Deep Neural Networks for Image Classification (Part II)**\n",
        "#  **Convolutional Neural Networks (CNNs)**\n",
        "\n",
        "*   We will create Convolutional Neural Networks (CNNs) for classifying MNIST and CIFAR10 images using PyTorch library, as in the previous lab. MNIST dataset contains 70,000 small square 28×28 pixel grayscale images of handwritten single digits between 0 and 9.\n",
        "\n",
        "\t• Use the GPU to speed up the training time of you models (Runtime -> Change runtime type -> Hardware accelerator -> GPU).\n",
        "\n",
        "\t• More details on PyTorch at https://pytorch.org/ - https://pytorch.org/tutorials/.  "
      ]
    },
    {
      "cell_type": "code",
      "execution_count": 1,
      "metadata": {
        "id": "khKRnr3sv7i3"
      },
      "outputs": [],
      "source": [
        "# Pytorch functions\n",
        "import torch\n",
        "# Neural network layers\n",
        "import torch.nn as nn\n",
        "import torch.nn.functional as F\n",
        "# Optimizer\n",
        "import torch.optim as optim\n",
        "# Handling dataset\n",
        "import torch.utils.data as data\n",
        "# Torchvision library\n",
        "import torchvision\n",
        "\n",
        "import matplotlib.pyplot as plt\n",
        "import random\n",
        "import numpy as np\n",
        "import copy\n",
        "import time\n",
        "import os\n",
        "import cv2\n",
        "# For results\n",
        "from sklearn.metrics import confusion_matrix\n",
        "from sklearn.metrics import classification_report"
      ]
    },
    {
      "cell_type": "markdown",
      "metadata": {
        "id": "-mFjx1V5XFoP"
      },
      "source": [
        "*  Set \"USE_SEED\" to False for your own experiments."
      ]
    },
    {
      "cell_type": "code",
      "execution_count": 2,
      "metadata": {
        "id": "Z2ezwN05wRxY"
      },
      "outputs": [],
      "source": [
        "def set_seed(seed, use_gpu = True):\n",
        "    \"\"\"\n",
        "    Set SEED for PyTorch reproducibility\n",
        "    \"\"\"\n",
        "    random.seed(seed)\n",
        "    np.random.seed(seed)\n",
        "    torch.manual_seed(seed)\n",
        "    if use_gpu:\n",
        "        torch.cuda.manual_seed_all(seed)\n",
        "        torch.cuda.manual_seed(seed)\n",
        "        torch.backends.cudnn.deterministic = True\n",
        "        torch.backends.cudnn.benchmark = False\n",
        "\n",
        "SEED = 44\n",
        "\n",
        "USE_SEED = True\n",
        "\n",
        "if USE_SEED:\n",
        "    set_seed(SEED, torch.cuda.is_available())"
      ]
    },
    {
      "cell_type": "markdown",
      "metadata": {
        "id": "qWPg2Z2XwIqz"
      },
      "source": [
        "# Convolutional and Max-Pooling layers\n",
        "Let's see how to create max-pooling and convolutional layers using PyTorch.\n",
        "\n",
        "  *  torch.nn.MaxPool2d(kernel_size, stride=None, padding=0, dilation=1, return_indices=False, ceil_mode=False)\n",
        "  *  torch.nn.Conv2d(in_channels, out_channels, kernel_size, stride=1, padding=0, dilation=1, groups=1, bias=True, padding_mode='zeros')\n"
      ]
    },
    {
      "cell_type": "code",
      "execution_count": 3,
      "metadata": {
        "colab": {
          "base_uri": "https://localhost:8080/"
        },
        "id": "k1pWpCFTwTiW",
        "outputId": "79f74a96-0ffc-4b47-c78e-fd18c3bef498"
      },
      "outputs": [
        {
          "output_type": "stream",
          "name": "stdout",
          "text": [
            "Image size: torch.Size([1, 1, 28, 28])\n"
          ]
        }
      ],
      "source": [
        "# Define a \"fake\" image\n",
        "image = torch.randn((1, 1, 28, 28)) # [batch_size, n_channels, height, width]\n",
        "print(f\"Image size: {image.shape}\")"
      ]
    },
    {
      "cell_type": "code",
      "execution_count": 4,
      "metadata": {
        "colab": {
          "base_uri": "https://localhost:8080/"
        },
        "id": "DYFSOKKlwXQQ",
        "outputId": "ddebee5a-b9ed-4a99-861b-234c2b1bd6d1"
      },
      "outputs": [
        {
          "output_type": "stream",
          "name": "stdout",
          "text": [
            "2D Max Pooling Output size: torch.Size([1, 1, 14, 14])\n"
          ]
        }
      ],
      "source": [
        "max_pool = nn.MaxPool2d(kernel_size = 2)\n",
        "img_max_pool = max_pool(image)\n",
        "\n",
        "print(f\"2D Max Pooling Output size: {img_max_pool.shape}\")"
      ]
    },
    {
      "cell_type": "code",
      "execution_count": 5,
      "metadata": {
        "colab": {
          "base_uri": "https://localhost:8080/"
        },
        "id": "74QLesPvwaJb",
        "outputId": "1de9cfd3-e97b-4b67-cd9c-fed76ec22647"
      },
      "outputs": [
        {
          "output_type": "stream",
          "name": "stdout",
          "text": [
            "2D Conv Output size: torch.Size([1, 64, 26, 26])\n"
          ]
        }
      ],
      "source": [
        "conv_2d = nn.Conv2d(in_channels = 1, out_channels = 64, kernel_size = 3)\n",
        "img_conv_2d = conv_2d(image)\n",
        "\n",
        "print(f\"2D Conv Output size: {img_conv_2d.shape}\")"
      ]
    },
    {
      "cell_type": "code",
      "execution_count": 6,
      "metadata": {
        "colab": {
          "base_uri": "https://localhost:8080/"
        },
        "id": "yUecZCdRwb_6",
        "outputId": "a87222ee-d016-43bd-9a5e-af2cecc5e654"
      },
      "outputs": [
        {
          "output_type": "stream",
          "name": "stdout",
          "text": [
            "torch.Size([64, 1, 3, 3])\n",
            "tensor([[ 0.3050,  0.0840, -0.2269],\n",
            "        [-0.2799,  0.2433,  0.1699],\n",
            "        [-0.0929, -0.3318, -0.1995]])\n"
          ]
        }
      ],
      "source": [
        "print(conv_2d.weight.data.shape)\n",
        "# Select first filter\n",
        "print(conv_2d.weight.data[0][0])"
      ]
    },
    {
      "cell_type": "code",
      "execution_count": 7,
      "metadata": {
        "colab": {
          "base_uri": "https://localhost:8080/"
        },
        "id": "0QzAciCLwd_8",
        "outputId": "7e0600ba-21dd-4008-8310-47d4f3e4dd92"
      },
      "outputs": [
        {
          "output_type": "stream",
          "name": "stdout",
          "text": [
            "tensor([[0., 0., 0.],\n",
            "        [0., 1., 0.],\n",
            "        [0., 0., 0.]])\n"
          ]
        }
      ],
      "source": [
        "# We can also define our own kernel\n",
        "f = torch.FloatTensor([[0, 0, 0],\n",
        "                  [0, 1, 0],\n",
        "                  [0, 0, 0]]) # Identity kernel\n",
        "\n",
        "conv_2d.weight.data[0][0] = f\n",
        "\n",
        "print(conv_2d.weight.data[0][0])"
      ]
    },
    {
      "cell_type": "markdown",
      "metadata": {
        "id": "-vyFLN3vwl5b"
      },
      "source": [
        "*  MNIST image classfication"
      ]
    },
    {
      "cell_type": "code",
      "execution_count": 8,
      "metadata": {
        "id": "5S-eJaN3wf3n",
        "colab": {
          "base_uri": "https://localhost:8080/",
          "height": 423,
          "referenced_widgets": [
            "6f475e2f8f504844b8c95008038f3dbe",
            "6d9b77a94a984a42ba6c0c1777c08ce7",
            "04dd8d321e9840edba4dfff0c708eccc",
            "6a43685371c9429abe51db23d65aff20",
            "8950fe4b5d874c14be858fc1a84c12e7",
            "19ad3fd7d8c143df929bd651bb31f7c5",
            "f5eeefe80af349019464799a532cc874",
            "8150965d54eb49e3be35de1cce201aac",
            "c5a984dbedcf43aca4630c88261c4e93",
            "c6c47199e55f4a89a1cb6dd58ef46f3d",
            "58f805a7031c47928835f2de92fdfdda",
            "dfc486ee17c8492ca38c5fda2763c5bc",
            "e99ee33c393e411b999c012a308131fb",
            "d182148d4ec243a4ae43cfceabfbb85a",
            "b7e43b5e2b5c4adba19a59fb35fc0cca",
            "4e50dee04c9a423f9c14aaa62dada7ba",
            "7f66a84092bc453b93311f1a25dc8e24",
            "365796ec12784ff28e79e652a8e88b28",
            "2a58d155250f4ce1848d00effb5cdcd7",
            "dc031831b6a74c65bad3bd3801b58ad4",
            "61fe06b466644b47b09edecbf8cdc90d",
            "710cac5a336e41d4ac77a5448bb3cbd1",
            "3881598d37774758ba41a67259792a7e",
            "ed94b4295e0549b1bea0dc8ddb976731",
            "cae5a83c36e148df87da5387cf3cc421",
            "98b66ccbd2d14673b0932a74033550fe",
            "31046686a58946c893592d5783d8c024",
            "3f572c5975c9421f9c13eace46a21b06",
            "ad259be19a0c4e5eaa24fe87fa867386",
            "7fed19feec7b4b2aa7440f2bd30f892f",
            "414f10cb697347e3bde1eab75e6f7b72",
            "5cfe9cd99de3494dbf9adbaa9a853fe5",
            "5deffbf7d3a4464d8f57501b53733edb",
            "5b765f17278f4503ab8aaf55abd527f6",
            "871b404ede854bdd9a448d3b9d50987b",
            "c3d59b00326f4873b28b7f454dcb4e25",
            "ded08768009e4213b3573106ce74fe28",
            "0de721ce051e44a1bafaa3c48f88db5a",
            "11e6cf79dfee4638a1cbf31b762190e7",
            "6f878c8b95ca4f69ab669f639a63a457",
            "6a33c37cb0b343b0962a0bf029f66445",
            "a04a2222d2bb480f97a6929bea6c3f52",
            "c3518bc5257f4d1ab44468ae7c0f809d",
            "55cc78f547104681989dc691bf975207"
          ]
        },
        "outputId": "b68d8bb3-20a5-4ddb-fa09-fe564d28ecf3"
      },
      "outputs": [
        {
          "output_type": "stream",
          "name": "stdout",
          "text": [
            "Downloading http://yann.lecun.com/exdb/mnist/train-images-idx3-ubyte.gz\n",
            "Downloading http://yann.lecun.com/exdb/mnist/train-images-idx3-ubyte.gz to ./data/MNIST/raw/train-images-idx3-ubyte.gz\n"
          ]
        },
        {
          "output_type": "display_data",
          "data": {
            "text/plain": [
              "  0%|          | 0/9912422 [00:00<?, ?it/s]"
            ],
            "application/vnd.jupyter.widget-view+json": {
              "version_major": 2,
              "version_minor": 0,
              "model_id": "6f475e2f8f504844b8c95008038f3dbe"
            }
          },
          "metadata": {}
        },
        {
          "output_type": "stream",
          "name": "stdout",
          "text": [
            "Extracting ./data/MNIST/raw/train-images-idx3-ubyte.gz to ./data/MNIST/raw\n",
            "\n",
            "Downloading http://yann.lecun.com/exdb/mnist/train-labels-idx1-ubyte.gz\n",
            "Downloading http://yann.lecun.com/exdb/mnist/train-labels-idx1-ubyte.gz to ./data/MNIST/raw/train-labels-idx1-ubyte.gz\n"
          ]
        },
        {
          "output_type": "display_data",
          "data": {
            "text/plain": [
              "  0%|          | 0/28881 [00:00<?, ?it/s]"
            ],
            "application/vnd.jupyter.widget-view+json": {
              "version_major": 2,
              "version_minor": 0,
              "model_id": "dfc486ee17c8492ca38c5fda2763c5bc"
            }
          },
          "metadata": {}
        },
        {
          "output_type": "stream",
          "name": "stdout",
          "text": [
            "Extracting ./data/MNIST/raw/train-labels-idx1-ubyte.gz to ./data/MNIST/raw\n",
            "\n",
            "Downloading http://yann.lecun.com/exdb/mnist/t10k-images-idx3-ubyte.gz\n",
            "Downloading http://yann.lecun.com/exdb/mnist/t10k-images-idx3-ubyte.gz to ./data/MNIST/raw/t10k-images-idx3-ubyte.gz\n"
          ]
        },
        {
          "output_type": "display_data",
          "data": {
            "text/plain": [
              "  0%|          | 0/1648877 [00:00<?, ?it/s]"
            ],
            "application/vnd.jupyter.widget-view+json": {
              "version_major": 2,
              "version_minor": 0,
              "model_id": "3881598d37774758ba41a67259792a7e"
            }
          },
          "metadata": {}
        },
        {
          "output_type": "stream",
          "name": "stdout",
          "text": [
            "Extracting ./data/MNIST/raw/t10k-images-idx3-ubyte.gz to ./data/MNIST/raw\n",
            "\n",
            "Downloading http://yann.lecun.com/exdb/mnist/t10k-labels-idx1-ubyte.gz\n",
            "Downloading http://yann.lecun.com/exdb/mnist/t10k-labels-idx1-ubyte.gz to ./data/MNIST/raw/t10k-labels-idx1-ubyte.gz\n"
          ]
        },
        {
          "output_type": "display_data",
          "data": {
            "text/plain": [
              "  0%|          | 0/4542 [00:00<?, ?it/s]"
            ],
            "application/vnd.jupyter.widget-view+json": {
              "version_major": 2,
              "version_minor": 0,
              "model_id": "5b765f17278f4503ab8aaf55abd527f6"
            }
          },
          "metadata": {}
        },
        {
          "output_type": "stream",
          "name": "stdout",
          "text": [
            "Extracting ./data/MNIST/raw/t10k-labels-idx1-ubyte.gz to ./data/MNIST/raw\n",
            "\n"
          ]
        }
      ],
      "source": [
        "# Load MNIST dataset\n",
        "# Available datasets at https://pytorch.org/vision/stable/datasets.html\n",
        "ROOT = './data'\n",
        "train_data = torchvision.datasets.MNIST(root=ROOT, train=True, download=True)"
      ]
    },
    {
      "cell_type": "code",
      "execution_count": 9,
      "metadata": {
        "colab": {
          "base_uri": "https://localhost:8080/",
          "height": 591
        },
        "id": "uGxmpSF3wrqB",
        "outputId": "c2e358b6-c5da-4014-b0f9-b4863d43d76f"
      },
      "outputs": [
        {
          "output_type": "display_data",
          "data": {
            "text/plain": [
              "<Figure size 720x720 with 25 Axes>"
            ],
            "image/png": "[encoded data removed]"
          },
          "metadata": {
            "needs_background": "light"
          }
        }
      ],
      "source": [
        "# Plot some training images\n",
        "N_IMAGES = 25\n",
        "plt.figure(figsize=(10, 10))\n",
        "for i in range(N_IMAGES):\n",
        "  img = train_data.data[i] # Unnormalized images\n",
        "  label = train_data[i][1]\n",
        "  plt.subplot(5,5,i+1), plt.imshow(img, cmap='gray'), plt.title(f\"Label: {label}\"), plt.axis('off')"
      ]
    },
    {
      "cell_type": "code",
      "execution_count": 10,
      "metadata": {
        "colab": {
          "base_uri": "https://localhost:8080/"
        },
        "id": "X_a-_yfwwxjC",
        "outputId": "dee48dc1-ebd2-414c-9dbe-0fa5bc8c1d2d"
      },
      "outputs": [
        {
          "output_type": "stream",
          "name": "stdout",
          "text": [
            "Minimum pixel value : 0\n",
            "Maximum pixel value : 255\n"
          ]
        }
      ],
      "source": [
        "# Select 1st image\n",
        "min_px_value = train_data.data[0].min()\n",
        "print(f\"Minimum pixel value : {min_px_value}\")\n",
        "max_px_value = train_data.data[0].max()\n",
        "print(f\"Maximum pixel value : {max_px_value}\")"
      ]
    },
    {
      "cell_type": "code",
      "execution_count": 11,
      "metadata": {
        "colab": {
          "base_uri": "https://localhost:8080/"
        },
        "id": "VMJZeA1kwmAU",
        "outputId": "13eb9425-08b7-4e92-ffca-2cc18dc76e6a"
      },
      "outputs": [
        {
          "output_type": "stream",
          "name": "stdout",
          "text": [
            "-----  TRAIN NORMALIZATION VALUES  -----\n",
            "Mean: 0.1307\n",
            "Standard Deviation: 0.3081\n"
          ]
        }
      ],
      "source": [
        "# Data normalization\n",
        "# Mean and std should be divided by 255 (maximum pixel value)\n",
        "# because, after the ToTensor() transformation (see next step), images are normalized\n",
        "# between 0 and 1.\n",
        "\n",
        "train_mean = train_data.data.float().mean() / 255\n",
        "train_std = train_data.data.float().std() / 255\n",
        "\n",
        "print(\"-----  TRAIN NORMALIZATION VALUES  -----\")\n",
        "print(f\"Mean: {train_mean:.4f}\")\n",
        "print(f\"Standard Deviation: {train_std:.4f}\")"
      ]
    },
    {
      "cell_type": "code",
      "execution_count": 12,
      "metadata": {
        "id": "iVaKl-TOxVBu"
      },
      "outputs": [],
      "source": [
        "# Compositions of transformations\n",
        "train_transforms = torchvision.transforms.Compose([\n",
        "                                                   torchvision.transforms.ToTensor(), # values are normalized between 0 and 1\n",
        "                                                   torchvision.transforms.Normalize(train_mean, train_std)\n",
        "])\n",
        "\n",
        "test_transforms = torchvision.transforms.Compose([\n",
        "                                                  torchvision.transforms.ToTensor(),\n",
        "                                                  torchvision.transforms.Normalize(train_mean, train_std)\n",
        "])"
      ]
    },
    {
      "cell_type": "code",
      "execution_count": 13,
      "metadata": {
        "colab": {
          "base_uri": "https://localhost:8080/"
        },
        "id": "UbjPHF1Ix0Ir",
        "outputId": "1f191dd5-4fa9-4943-8345-3a55dec8a1b9"
      },
      "outputs": [
        {
          "output_type": "stream",
          "name": "stdout",
          "text": [
            "Dataset MNIST\n",
            "    Number of datapoints: 60000\n",
            "    Root location: ./data\n",
            "    Split: Train\n",
            "    StandardTransform\n",
            "Transform: Compose(\n",
            "               ToTensor()\n",
            "               Normalize(mean=0.13066047430038452, std=0.30810779333114624)\n",
            "           )\n",
            "Dataset MNIST\n",
            "    Number of datapoints: 10000\n",
            "    Root location: ./data\n",
            "    Split: Test\n",
            "    StandardTransform\n",
            "Transform: Compose(\n",
            "               ToTensor()\n",
            "               Normalize(mean=0.13066047430038452, std=0.30810779333114624)\n",
            "           )\n"
          ]
        }
      ],
      "source": [
        "# Load data with transformations\n",
        "train_data = torchvision.datasets.MNIST(root=ROOT,\n",
        "                                        train=True,\n",
        "                                        download=True,\n",
        "                                        transform=train_transforms)\n",
        "\n",
        "test_data = torchvision.datasets.MNIST(root=ROOT,\n",
        "                                        train=False,\n",
        "                                        download=True,\n",
        "                                        transform=test_transforms)\n",
        "print(train_data)\n",
        "print(test_data)"
      ]
    },
    {
      "cell_type": "code",
      "execution_count": 14,
      "metadata": {
        "id": "SH0bu1xjyBDa"
      },
      "outputs": [],
      "source": [
        "def create_validation_set(train_data, train_percentage, test_transforms):\n",
        "    \n",
        "  # Split train data into train and validation sets\n",
        "  # (10% of training set will be used as validation set)\n",
        "  num_train_examples = int(len(train_data) * train_percentage)\n",
        "  num_valid_examples = len(train_data) - num_train_examples\n",
        "\n",
        "  # Create 'Subset' objects\n",
        "  train_data, valid_data = data.random_split(train_data, [num_train_examples, num_valid_examples])\n",
        "\n",
        "  print(f\"Number training examples: {len(train_data)}\")\n",
        "  print(f\"Number validation examples: {len(valid_data)}\")\n",
        "\n",
        "  # Apply test transformations to the validation set\n",
        "  valid_data = copy.deepcopy(valid_data) # If we change train transformations, this won't affect the validation set\n",
        "  valid_data.dataset.transform = test_transforms\n",
        "\n",
        "  return valid_data"
      ]
    },
    {
      "cell_type": "code",
      "execution_count": 15,
      "metadata": {
        "colab": {
          "base_uri": "https://localhost:8080/"
        },
        "id": "RK3wQHk4yEUc",
        "outputId": "2300b1d9-9452-4e48-84d1-6cf3e7e2cc8b"
      },
      "outputs": [
        {
          "output_type": "stream",
          "name": "stdout",
          "text": [
            "Number training examples: 48000\n",
            "Number validation examples: 12000\n"
          ]
        }
      ],
      "source": [
        "valid_data = create_validation_set(train_data, 0.8, test_transforms)"
      ]
    },
    {
      "cell_type": "code",
      "execution_count": 16,
      "metadata": {
        "id": "EMySQGzIyHw2"
      },
      "outputs": [],
      "source": [
        "# Create iterators\n",
        "BATCH_SIZE = 64\n",
        "\n",
        "train_iterator = torch.utils.data.DataLoader(train_data, \n",
        "                                             shuffle=True, \n",
        "                                             batch_size=BATCH_SIZE)\n",
        "\n",
        "valid_iterator = torch.utils.data.DataLoader(valid_data, \n",
        "                                             batch_size=BATCH_SIZE)\n",
        "\n",
        "test_iterator = torch.utils.data.DataLoader(test_data, \n",
        "                                            batch_size=BATCH_SIZE)"
      ]
    },
    {
      "cell_type": "markdown",
      "metadata": {
        "id": "LjRPBWwJy7Gw"
      },
      "source": [
        "# **Ex.1** \n",
        "\n",
        "Implement a LeNet-like architecture to classify handwritten digits. Compared to the original architecture, we will use 28x28 (instead of 32x32) input images and standard linear layers (we will not consider Gaussian connections). \n",
        "\n",
        "\t• INPUT: 28x28 grayscale image;\n",
        "\t• LAYER 1: Convolutional layer with 6 convolutional filters (select a padding value such that the output is a 28x28 feature map);\n",
        "\t• LAYER 2: A max pooling layer that down-samples Layer 1. Pass the output of Layer 2 through a ReLU activation function;\n",
        "\t• LAYER 3: Convolutional layer with 16 convolutional filters;\n",
        "\t• LAYER 4: A max pooling layer that down-samples Layer 3. Pass the output of Layer 4 through a ReLU activation function;\n",
        "\t• FLATTEN: Flatten the image to put it through linear layers; \n",
        "\t• LAYER 5: Linear layer (ouput dim = 120). Pass the output of Layer 5 through a ReLU activation function;\n",
        "\t• LAYER 6: Linear layer (ouput dim = 84). Pass the output of Layer 6 through a ReLU activation function;\n",
        "\t• LAYER 7: Linear layer (ouput dim = 10)\n",
        "\n",
        "You can infer the kernel size of each convolutional layer from the image below.\n",
        "\t\n",
        "![image.png](data:image/png;base64,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)"
      ]
    },
    {
      "cell_type": "markdown",
      "metadata": {
        "id": "31i7BK1DyXvE"
      },
      "source": [
        "**Ex. 1.1** - Compute the number of parameters for each layer of the previous network."
      ]
    },
    {
      "cell_type": "code",
      "execution_count": 17,
      "metadata": {
        "id": "KkGVyoSmy3Dy"
      },
      "outputs": [],
      "source": [
        "class LeNet(nn.Module):\n",
        "  def __init__(self, output_dim): # input dimension is 28x28\n",
        "    super().__init__()\n",
        "\n",
        "    self.c1 = nn.Conv2d(1, 6, kernel_size=(5, 5), stride=1, padding=2)\n",
        "    self.c2 = nn.Conv2d(6, 16, kernel_size=(5, 5), stride=1, padding=0)\n",
        "\n",
        "    self.fc1 = nn.Linear(5*5*16, 120)\n",
        "    self.fc2 = nn.Linear(120, 84)\n",
        "    self.fc3 = nn.Linear(84, output_dim)\n",
        "\n",
        "    self.pool = nn.MaxPool2d(kernel_size=(2, 2))\n",
        "    self.relu = nn.ReLU()\n",
        "    self.flatten = nn.Flatten()\n",
        "\n",
        "  def forward(self, x):\n",
        "    x = self.c1(x)\n",
        "    x = self.pool(x) \n",
        "    x = self.relu(x)\n",
        "    x = self.c2(x)\n",
        "    x = self.pool(x) \n",
        "    x = self.relu(x)\n",
        "    x = self.flatten(x)\n",
        "    x = self.fc1(x)\n",
        "    x = self.relu(x)\n",
        "    x = self.fc2(x)\n",
        "    x = self.relu(x)\n",
        "    x = self.fc3(x)\n",
        "    \n",
        "    return x"
      ]
    },
    {
      "cell_type": "code",
      "execution_count": 18,
      "metadata": {
        "id": "e9YS7mBkzYth"
      },
      "outputs": [],
      "source": [
        "OUTPUT_DIM = 10\n",
        "model = LeNet(OUTPUT_DIM)"
      ]
    },
    {
      "cell_type": "code",
      "source": [
        "# count only backpropagated parameters\n",
        "def count_parameters(model):\n",
        "  return sum(p.numel() for p in model.parameters() if p.requires_grad)\n",
        "\n",
        "print(f\"The model has {count_parameters(model):,} trainable parameters.\")"
      ],
      "metadata": {
        "colab": {
          "base_uri": "https://localhost:8080/"
        },
        "id": "0FZftOOZVYJF",
        "outputId": "82358c33-323c-47f1-d62d-df365b49015e"
      },
      "execution_count": 19,
      "outputs": [
        {
          "output_type": "stream",
          "name": "stdout",
          "text": [
            "The model has 61,706 trainable parameters.\n"
          ]
        }
      ]
    },
    {
      "cell_type": "code",
      "execution_count": 20,
      "metadata": {
        "id": "WP4Gafcfz3Bg"
      },
      "outputs": [],
      "source": [
        "# Loss\n",
        "criterion = nn.CrossEntropyLoss() # Softmax + CrossEntropy\n",
        "\n",
        "# Put model&criterion on GPU\n",
        "device = torch.device('cuda' if torch.cuda.is_available() else 'cpu')\n",
        "\n",
        "criterion = criterion.to(device)"
      ]
    },
    {
      "cell_type": "code",
      "execution_count": 21,
      "metadata": {
        "id": "LTY2mejIzZ42"
      },
      "outputs": [],
      "source": [
        "# Optim\n",
        "optimizer = optim.Adam(model.parameters(), lr=1e-4)\n",
        "\n",
        "model = model.to(device)"
      ]
    },
    {
      "cell_type": "markdown",
      "metadata": {
        "id": "BE-IUlC70CVH"
      },
      "source": [
        "* Training phase"
      ]
    },
    {
      "cell_type": "code",
      "execution_count": 22,
      "metadata": {
        "id": "jG3nE6Lbz8hD"
      },
      "outputs": [],
      "source": [
        "def train(model, iterator, optimizer, criterion, device):\n",
        "  epoch_loss = 0\n",
        "  epoch_acc = 0\n",
        "\n",
        "  # Train mode\n",
        "  model.train()\n",
        "\n",
        "  for (x,y) in iterator:\n",
        "    x = x.to(device)\n",
        "    y = y.to(device)\n",
        "    # Set gradients to zero\n",
        "    optimizer.zero_grad()\n",
        "    \n",
        "    # Make Predictions\n",
        "    y_pred = model(x)\n",
        "\n",
        "    # Compute loss\n",
        "    loss = criterion(y_pred, y)\n",
        "    \n",
        "    # Compute accuracy\n",
        "    acc = calculate_accuracy(y_pred, y)\n",
        "\n",
        "    # Backprop\n",
        "    loss.backward()\n",
        "\n",
        "    # Apply optimizer\n",
        "    optimizer.step()\n",
        "\n",
        "    # Extract data from loss and accuracy\n",
        "    epoch_loss += loss.item()\n",
        "    epoch_acc += acc.item()\n",
        "\n",
        "  return epoch_loss/len(iterator), epoch_acc/len(iterator)"
      ]
    },
    {
      "cell_type": "markdown",
      "metadata": {
        "id": "9ojI3_Yx0EAc"
      },
      "source": [
        "* Validation/Testing phase"
      ]
    },
    {
      "cell_type": "code",
      "execution_count": 23,
      "metadata": {
        "id": "nxc8fsKO0F5Q"
      },
      "outputs": [],
      "source": [
        "def evaluate(model, iterator, criterion, device):\n",
        "  epoch_loss = 0\n",
        "  epoch_acc = 0\n",
        "\n",
        "  # Evaluation mode\n",
        "  model.eval()\n",
        "\n",
        "  # Do not compute gradients\n",
        "  with torch.no_grad():\n",
        "\n",
        "    for(x,y) in iterator:\n",
        "\n",
        "      x = x.to(device)\n",
        "      y = y.to(device)\n",
        "      \n",
        "      # Make Predictions\n",
        "      y_pred = model(x)\n",
        "\n",
        "      # Compute loss\n",
        "      loss = criterion(y_pred, y)\n",
        "      \n",
        "      # Compute accuracy\n",
        "      acc = calculate_accuracy(y_pred, y)\n",
        "\n",
        "      # Extract data from loss and accuracy\n",
        "      epoch_loss += loss.item()\n",
        "      epoch_acc += acc.item()\n",
        "\n",
        "  return epoch_loss/len(iterator), epoch_acc/len(iterator)"
      ]
    },
    {
      "cell_type": "code",
      "execution_count": 24,
      "metadata": {
        "id": "J0Fh_VES0HOb"
      },
      "outputs": [],
      "source": [
        "def calculate_accuracy(y_pred, y):\n",
        "  '''\n",
        "  Compute accuracy from ground-truth and predicted labels.\n",
        "  \n",
        "  Input\n",
        "  ------\n",
        "  y_pred: torch.Tensor [BATCH_SIZE, N_LABELS]\n",
        "  y: torch.Tensor [BATCH_SIZE]\n",
        "\n",
        "  Output\n",
        "  ------\n",
        "  acc: float\n",
        "    Accuracy\n",
        "  '''\n",
        "  y_prob = F.softmax(y_pred, dim = -1)\n",
        "  y_pred = y_pred.argmax(dim=1, keepdim = True)\n",
        "  correct = y_pred.eq(y.view_as(y_pred)).sum()\n",
        "  acc = correct.float()/y.shape[0]\n",
        "  return acc"
      ]
    },
    {
      "cell_type": "code",
      "execution_count": 25,
      "metadata": {
        "id": "kHvXYGp90Ivb"
      },
      "outputs": [],
      "source": [
        "def model_training(n_epochs, model, train_iterator, valid_iterator, optimizer, criterion, device, model_name='best_model.pt'):\n",
        "\n",
        "  # Initialize validation loss\n",
        "  best_valid_loss = float('inf')\n",
        "\n",
        "  # Save output losses, accs\n",
        "  train_losses = []\n",
        "  train_accs = []\n",
        "  valid_losses = []\n",
        "  valid_accs = []\n",
        "\n",
        "  # Loop over epochs\n",
        "  for epoch in range(n_epochs):\n",
        "    start_time = time.time()\n",
        "    # Train\n",
        "    train_loss, train_acc = train(model, train_iterator, optimizer, criterion, device)\n",
        "    # Validation\n",
        "    valid_loss, valid_acc = evaluate(model, valid_iterator, criterion, device)\n",
        "    # Save best model\n",
        "    if valid_loss < best_valid_loss:\n",
        "      best_valid_loss = valid_loss\n",
        "      # Save model\n",
        "      torch.save(model.state_dict(), model_name)\n",
        "    end_time = time.time()\n",
        "    \n",
        "    print(f\"\\nEpoch: {epoch+1}/{n_epochs} -- Epoch Time: {end_time-start_time:.2f} s\")\n",
        "    print(\"---------------------------------\")\n",
        "    print(f\"Train -- Loss: {train_loss:.3f}, Acc: {train_acc * 100:.2f}%\")\n",
        "    print(f\"Val -- Loss: {valid_loss:.3f}, Acc: {valid_acc * 100:.2f}%\")\n",
        "\n",
        "    # Save\n",
        "    train_losses.append(train_loss)\n",
        "    train_accs.append(train_acc)\n",
        "    valid_losses.append(valid_loss)\n",
        "    valid_accs.append(valid_acc)\n",
        "\n",
        "  return train_losses, train_accs, valid_losses, valid_accs"
      ]
    },
    {
      "cell_type": "code",
      "execution_count": 26,
      "metadata": {
        "colab": {
          "base_uri": "https://localhost:8080/"
        },
        "id": "zeiVNksW0Kmn",
        "outputId": "cad80883-d0bc-42b5-beb1-d8b0b72915db"
      },
      "outputs": [
        {
          "output_type": "stream",
          "name": "stdout",
          "text": [
            "\n",
            "Epoch: 1/30 -- Epoch Time: 22.12 s\n",
            "---------------------------------\n",
            "Train -- Loss: 0.651, Acc: 83.30%\n",
            "Val -- Loss: 0.243, Acc: 92.91%\n",
            "\n",
            "Epoch: 2/30 -- Epoch Time: 14.26 s\n",
            "---------------------------------\n",
            "Train -- Loss: 0.193, Acc: 94.40%\n",
            "Val -- Loss: 0.152, Acc: 95.37%\n",
            "\n",
            "Epoch: 3/30 -- Epoch Time: 14.27 s\n",
            "---------------------------------\n",
            "Train -- Loss: 0.132, Acc: 96.07%\n",
            "Val -- Loss: 0.111, Acc: 96.65%\n",
            "\n",
            "Epoch: 4/30 -- Epoch Time: 15.55 s\n",
            "---------------------------------\n",
            "Train -- Loss: 0.101, Acc: 96.94%\n",
            "Val -- Loss: 0.086, Acc: 97.42%\n",
            "\n",
            "Epoch: 5/30 -- Epoch Time: 14.42 s\n",
            "---------------------------------\n",
            "Train -- Loss: 0.084, Acc: 97.45%\n",
            "Val -- Loss: 0.076, Acc: 97.60%\n",
            "\n",
            "Epoch: 6/30 -- Epoch Time: 15.15 s\n",
            "---------------------------------\n",
            "Train -- Loss: 0.072, Acc: 97.85%\n",
            "Val -- Loss: 0.071, Acc: 97.80%\n",
            "\n",
            "Epoch: 7/30 -- Epoch Time: 14.34 s\n",
            "---------------------------------\n",
            "Train -- Loss: 0.064, Acc: 98.01%\n",
            "Val -- Loss: 0.059, Acc: 98.16%\n",
            "\n",
            "Epoch: 8/30 -- Epoch Time: 14.33 s\n",
            "---------------------------------\n",
            "Train -- Loss: 0.058, Acc: 98.23%\n",
            "Val -- Loss: 0.052, Acc: 98.42%\n",
            "\n",
            "Epoch: 9/30 -- Epoch Time: 14.42 s\n",
            "---------------------------------\n",
            "Train -- Loss: 0.053, Acc: 98.39%\n",
            "Val -- Loss: 0.047, Acc: 98.51%\n",
            "\n",
            "Epoch: 10/30 -- Epoch Time: 14.31 s\n",
            "---------------------------------\n",
            "Train -- Loss: 0.049, Acc: 98.50%\n",
            "Val -- Loss: 0.045, Acc: 98.60%\n",
            "\n",
            "Epoch: 11/30 -- Epoch Time: 14.17 s\n",
            "---------------------------------\n",
            "Train -- Loss: 0.045, Acc: 98.61%\n",
            "Val -- Loss: 0.039, Acc: 98.79%\n",
            "\n",
            "Epoch: 12/30 -- Epoch Time: 14.41 s\n",
            "---------------------------------\n",
            "Train -- Loss: 0.042, Acc: 98.74%\n",
            "Val -- Loss: 0.039, Acc: 98.72%\n",
            "\n",
            "Epoch: 13/30 -- Epoch Time: 14.31 s\n",
            "---------------------------------\n",
            "Train -- Loss: 0.040, Acc: 98.78%\n",
            "Val -- Loss: 0.037, Acc: 98.97%\n",
            "\n",
            "Epoch: 14/30 -- Epoch Time: 14.49 s\n",
            "---------------------------------\n",
            "Train -- Loss: 0.037, Acc: 98.83%\n",
            "Val -- Loss: 0.032, Acc: 98.99%\n",
            "\n",
            "Epoch: 15/30 -- Epoch Time: 14.27 s\n",
            "---------------------------------\n",
            "Train -- Loss: 0.035, Acc: 98.92%\n",
            "Val -- Loss: 0.030, Acc: 99.05%\n",
            "\n",
            "Epoch: 16/30 -- Epoch Time: 14.20 s\n",
            "---------------------------------\n",
            "Train -- Loss: 0.033, Acc: 99.02%\n",
            "Val -- Loss: 0.030, Acc: 99.11%\n",
            "\n",
            "Epoch: 17/30 -- Epoch Time: 14.10 s\n",
            "---------------------------------\n",
            "Train -- Loss: 0.031, Acc: 99.05%\n",
            "Val -- Loss: 0.028, Acc: 99.12%\n",
            "\n",
            "Epoch: 18/30 -- Epoch Time: 14.21 s\n",
            "---------------------------------\n",
            "Train -- Loss: 0.029, Acc: 99.13%\n",
            "Val -- Loss: 0.029, Acc: 99.05%\n",
            "\n",
            "Epoch: 19/30 -- Epoch Time: 14.38 s\n",
            "---------------------------------\n",
            "Train -- Loss: 0.027, Acc: 99.14%\n",
            "Val -- Loss: 0.024, Acc: 99.34%\n",
            "\n",
            "Epoch: 20/30 -- Epoch Time: 14.47 s\n",
            "---------------------------------\n",
            "Train -- Loss: 0.026, Acc: 99.20%\n",
            "Val -- Loss: 0.022, Acc: 99.38%\n",
            "\n",
            "Epoch: 21/30 -- Epoch Time: 14.42 s\n",
            "---------------------------------\n",
            "Train -- Loss: 0.025, Acc: 99.23%\n",
            "Val -- Loss: 0.022, Acc: 99.35%\n",
            "\n",
            "Epoch: 22/30 -- Epoch Time: 14.98 s\n",
            "---------------------------------\n",
            "Train -- Loss: 0.023, Acc: 99.29%\n",
            "Val -- Loss: 0.020, Acc: 99.31%\n",
            "\n",
            "Epoch: 23/30 -- Epoch Time: 14.61 s\n",
            "---------------------------------\n",
            "Train -- Loss: 0.021, Acc: 99.34%\n",
            "Val -- Loss: 0.019, Acc: 99.40%\n",
            "\n",
            "Epoch: 24/30 -- Epoch Time: 14.65 s\n",
            "---------------------------------\n",
            "Train -- Loss: 0.020, Acc: 99.36%\n",
            "Val -- Loss: 0.021, Acc: 99.34%\n",
            "\n",
            "Epoch: 25/30 -- Epoch Time: 14.71 s\n",
            "---------------------------------\n",
            "Train -- Loss: 0.019, Acc: 99.40%\n",
            "Val -- Loss: 0.018, Acc: 99.47%\n",
            "\n",
            "Epoch: 26/30 -- Epoch Time: 14.67 s\n",
            "---------------------------------\n",
            "Train -- Loss: 0.018, Acc: 99.42%\n",
            "Val -- Loss: 0.016, Acc: 99.48%\n",
            "\n",
            "Epoch: 27/30 -- Epoch Time: 14.69 s\n",
            "---------------------------------\n",
            "Train -- Loss: 0.017, Acc: 99.45%\n",
            "Val -- Loss: 0.015, Acc: 99.51%\n",
            "\n",
            "Epoch: 28/30 -- Epoch Time: 14.70 s\n",
            "---------------------------------\n",
            "Train -- Loss: 0.016, Acc: 99.51%\n",
            "Val -- Loss: 0.013, Acc: 99.58%\n",
            "\n",
            "Epoch: 29/30 -- Epoch Time: 14.56 s\n",
            "---------------------------------\n",
            "Train -- Loss: 0.015, Acc: 99.52%\n",
            "Val -- Loss: 0.016, Acc: 99.55%\n",
            "\n",
            "Epoch: 30/30 -- Epoch Time: 14.45 s\n",
            "---------------------------------\n",
            "Train -- Loss: 0.014, Acc: 99.56%\n",
            "Val -- Loss: 0.014, Acc: 99.62%\n"
          ]
        }
      ],
      "source": [
        "N_EPOCHS = 30\n",
        "train_losses, train_accs, valid_losses, valid_accs = model_training(N_EPOCHS, \n",
        "                                                                    model, \n",
        "                                                                    train_iterator, \n",
        "                                                                    valid_iterator, \n",
        "                                                                    optimizer, \n",
        "                                                                    criterion, \n",
        "                                                                    device,\n",
        "                                                                    'lenet.pt')"
      ]
    },
    {
      "cell_type": "code",
      "execution_count": 27,
      "metadata": {
        "id": "EGEvmGmc0PjA"
      },
      "outputs": [],
      "source": [
        "def plot_results(n_epochs, train_losses, train_accs, valid_losses, valid_accs):\n",
        "  N_EPOCHS = n_epochs\n",
        "  # Plot results\n",
        "  plt.figure(figsize=(20, 6))\n",
        "  _ = plt.subplot(1,2,1)\n",
        "  plt.plot(np.arange(N_EPOCHS)+1, train_losses, linewidth=3)\n",
        "  plt.plot(np.arange(N_EPOCHS)+1, valid_losses, linewidth=3)\n",
        "  _ = plt.legend(['Train', 'Validation'])\n",
        "  plt.grid('on'), plt.xlabel('Epoch'), plt.ylabel('Loss')\n",
        "\n",
        "  _ = plt.subplot(1,2,2)\n",
        "  plt.plot(np.arange(N_EPOCHS)+1, train_accs, linewidth=3)\n",
        "  plt.plot(np.arange(N_EPOCHS)+1, valid_accs, linewidth=3)\n",
        "  _ = plt.legend(['Train', 'Validation'])\n",
        "  plt.grid('on'), plt.xlabel('Epoch'), plt.ylabel('Accuracy')"
      ]
    },
    {
      "cell_type": "code",
      "execution_count": 28,
      "metadata": {
        "colab": {
          "base_uri": "https://localhost:8080/",
          "height": 371
        },
        "id": "w4ldldRR0TGv",
        "outputId": "b2ab8586-ec91-487a-f379-f7cd24400485"
      },
      "outputs": [
        {
          "output_type": "display_data",
          "data": {
            "text/plain": [
              "<Figure size 1440x432 with 2 Axes>"
            ],
            "image/png": "[encoded data removed]"
          },
          "metadata": {
            "needs_background": "light"
          }
        }
      ],
      "source": [
        "plot_results(N_EPOCHS, train_losses, train_accs, valid_losses, valid_accs)"
      ]
    },
    {
      "cell_type": "code",
      "execution_count": 29,
      "metadata": {
        "id": "PjlGMVcO0U-E"
      },
      "outputs": [],
      "source": [
        "def model_testing(model, test_iterator, criterion, device, model_name='best_model.pt'):\n",
        "  # Test model\n",
        "  model.load_state_dict(torch.load(model_name))\n",
        "  test_loss, test_acc = evaluate(model, test_iterator, criterion, device)\n",
        "  print(f\"Test -- Loss: {test_loss:.3f}, Acc: {test_acc * 100:.2f} %\")"
      ]
    },
    {
      "cell_type": "code",
      "execution_count": 30,
      "metadata": {
        "colab": {
          "base_uri": "https://localhost:8080/"
        },
        "id": "FgYsen7j0WnC",
        "outputId": "36837fb2-3857-4ddd-d808-693668aaf907"
      },
      "outputs": [
        {
          "output_type": "stream",
          "name": "stdout",
          "text": [
            "Test -- Loss: 0.032, Acc: 98.93 %\n"
          ]
        }
      ],
      "source": [
        "model_testing(model, test_iterator, criterion, device, 'lenet.pt')"
      ]
    },
    {
      "cell_type": "code",
      "execution_count": 31,
      "metadata": {
        "id": "drATKAVR0ZGY"
      },
      "outputs": [],
      "source": [
        "def predict(model, iterator, device):\n",
        "  \n",
        "  # Evaluation mode\n",
        "  model.eval()\n",
        "  \n",
        "  labels = []\n",
        "  pred = []\n",
        "\n",
        "  with torch.no_grad():\n",
        "    for (x, y) in iterator:\n",
        "      x = x.to(device)\n",
        "      y_pred = model(x)\n",
        "\n",
        "      # Get label with highest score\n",
        "      y_prob = F.softmax(y_pred, dim = -1)\n",
        "      top_pred = y_prob.argmax(1, keepdim=True)\n",
        "\n",
        "      labels.append(y.cpu())\n",
        "      pred.append(top_pred.cpu())\n",
        "\n",
        "  labels = torch.cat(labels, dim=0)\n",
        "  pred = torch.cat(pred, dim=0)\n",
        "  \n",
        "  return labels, pred\n"
      ]
    },
    {
      "cell_type": "code",
      "execution_count": 32,
      "metadata": {
        "id": "jv8ImI3A0bq6"
      },
      "outputs": [],
      "source": [
        "def print_report(model, test_iterator, device):\n",
        "  labels, pred = predict(model, test_iterator, device)\n",
        "  print(confusion_matrix(labels, pred))\n",
        "  print(\"\\n\")\n",
        "  print(classification_report(labels, pred))"
      ]
    },
    {
      "cell_type": "code",
      "execution_count": 33,
      "metadata": {
        "colab": {
          "base_uri": "https://localhost:8080/"
        },
        "id": "ZRf8hOta0cey",
        "outputId": "06beb9a9-e29f-4c58-8bee-2d5d8686c92a"
      },
      "outputs": [
        {
          "output_type": "stream",
          "name": "stdout",
          "text": [
            "[[ 976    0    0    0    0    0    1    1    2    0]\n",
            " [   0 1127    1    0    0    1    1    2    3    0]\n",
            " [   2    0 1026    1    0    0    0    2    1    0]\n",
            " [   0    0    0 1003    0    4    0    0    3    0]\n",
            " [   0    0    2    0  965    0    1    2    1   11]\n",
            " [   2    0    0    4    0  884    1    0    1    0]\n",
            " [   4    2    0    1    1    5  943    0    2    0]\n",
            " [   0    0    6    2    0    0    0 1017    1    2]\n",
            " [   4    0    1    1    0    2    0    2  961    3]\n",
            " [   2    0    0    3    2    6    0    4    2  990]]\n",
            "\n",
            "\n",
            "              precision    recall  f1-score   support\n",
            "\n",
            "           0       0.99      1.00      0.99       980\n",
            "           1       1.00      0.99      1.00      1135\n",
            "           2       0.99      0.99      0.99      1032\n",
            "           3       0.99      0.99      0.99      1010\n",
            "           4       1.00      0.98      0.99       982\n",
            "           5       0.98      0.99      0.99       892\n",
            "           6       1.00      0.98      0.99       958\n",
            "           7       0.99      0.99      0.99      1028\n",
            "           8       0.98      0.99      0.99       974\n",
            "           9       0.98      0.98      0.98      1009\n",
            "\n",
            "    accuracy                           0.99     10000\n",
            "   macro avg       0.99      0.99      0.99     10000\n",
            "weighted avg       0.99      0.99      0.99     10000\n",
            "\n"
          ]
        }
      ],
      "source": [
        "print_report(model, test_iterator, device)"
      ]
    },
    {
      "cell_type": "markdown",
      "metadata": {
        "id": "YfQc-Z0I0lcA"
      },
      "source": [
        "# **Feature Maps Visualization**\n",
        "\n",
        "We will now visualize some filters and feature maps, selecting the first 5 test images and the first CONV layer."
      ]
    },
    {
      "cell_type": "code",
      "source": [
        "model = torch.load(\"lenet.pt\")"
      ],
      "metadata": {
        "id": "T6biQnZXeKvY"
      },
      "execution_count": 34,
      "outputs": []
    },
    {
      "cell_type": "code",
      "source": [
        "print(model.keys())"
      ],
      "metadata": {
        "colab": {
          "base_uri": "https://localhost:8080/"
        },
        "id": "NC8Ga9eheubl",
        "outputId": "01eb53e5-f53c-4728-833b-544172936b72"
      },
      "execution_count": 35,
      "outputs": [
        {
          "output_type": "stream",
          "name": "stdout",
          "text": [
            "odict_keys(['c1.weight', 'c1.bias', 'c2.weight', 'c2.bias', 'fc1.weight', 'fc1.bias', 'fc2.weight', 'fc2.bias', 'fc3.weight', 'fc3.bias'])\n"
          ]
        }
      ]
    },
    {
      "cell_type": "code",
      "execution_count": 36,
      "metadata": {
        "colab": {
          "base_uri": "https://localhost:8080/",
          "height": 793
        },
        "id": "joJDYsE20d4-",
        "outputId": "99c6e577-0c8b-4696-d2fb-89982c15bb46"
      },
      "outputs": [
        {
          "output_type": "stream",
          "name": "stdout",
          "text": [
            "CONV1 LAYER: torch.Size([6, 1, 5, 5])\n"
          ]
        },
        {
          "output_type": "display_data",
          "data": {
            "text/plain": [
              "<Figure size 1080x720 with 7 Axes>"
            ],
            "image/png": "[encoded data removed]"
          },
          "metadata": {
            "needs_background": "light"
          }
        },
        {
          "output_type": "display_data",
          "data": {
            "text/plain": [
              "<Figure size 1080x792 with 35 Axes>"
            ],
            "image/png": "[encoded data removed]"
          },
          "metadata": {
            "needs_background": "light"
          }
        }
      ],
      "source": [
        "N_IMAGES = 5\n",
        "\n",
        "# Get filters\n",
        "filters = model['c1.weight'].data\n",
        "print(f\"CONV1 LAYER: {filters.shape}\")\n",
        "\n",
        "fig = plt.figure(figsize=(15,10))\n",
        "for i in range(filters.shape[0]):\n",
        "  if i == 0:\n",
        "    plt.subplot(1, 7, i+1), plt.imshow(torch.zeros(filters.size(2), filters.size(3)).cpu()), plt.axis('off')\n",
        "  image = filters[i][0]\n",
        "  # image.clamp_(min = image.min(), max = image.max())\n",
        "  # image.add_(-image.min()).div_(image.max() - image.min() + 1e-5)\n",
        "  plt.subplot(1, 7, i+2), plt.imshow(image.cpu()), plt.title(f\"Filter n. {i+1}\")\n",
        "  plt.axis('off')\n",
        "\n",
        "# Select images\n",
        "images = [image for image, label in [test_data[i] for i in range(N_IMAGES)]]\n",
        "\n",
        "# Parameters\n",
        "in_channels = filters.shape[1]\n",
        "out_channels = filters.shape[0]\n",
        "kernel_size = filters.shape[2]\n",
        "# # Define 2d filter\n",
        "filter_2d = nn.Conv2d(in_channels=in_channels, out_channels=out_channels, kernel_size=kernel_size).to(device)\n",
        "filter_2d.weight.data = filters\n",
        "\n",
        "N_FILTERS = out_channels\n",
        "fig = plt.figure(figsize=(15,11))\n",
        "for i in range(N_IMAGES):\n",
        "  # Plot image\n",
        "  image = images[i]\n",
        "  image = image[None, ...]\n",
        "  plt.subplot(5, N_FILTERS+1, i+1 + (N_FILTERS*i)), plt.imshow(image[0][0].cpu(), cmap = 'gray'), plt.axis('off')\n",
        "  plt.title('Input image')\n",
        "  \n",
        "  # Plot filtered image\n",
        "  filtered_image = filter_2d(image.to(device))\n",
        "  for f in range(N_FILTERS):\n",
        "    fil_image = filtered_image[0][f]\n",
        "    plt.subplot(5, N_FILTERS+1, f+2 + ((N_FILTERS+1)*i)), plt.imshow(fil_image.cpu().detach().numpy(), cmap = 'gray'), plt.axis('off')"
      ]
    },
    {
      "cell_type": "markdown",
      "metadata": {
        "id": "f8Db2-xsMdUE"
      },
      "source": [
        "# Import a convolutional neural network\n",
        "\n",
        "*  Load CIFAR10 dataset;\n",
        "*  Import VGG16 architecure;\n",
        "*  Train VGG16 on CIFAR 10 from scratch or using a VGG-16 pre-trained on ImageNet."
      ]
    },
    {
      "cell_type": "markdown",
      "metadata": {
        "id": "qRVNZm4BNKOg"
      },
      "source": [
        "![image.png](data:image/png;base64,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)"
      ]
    },
    {
      "cell_type": "code",
      "execution_count": 37,
      "metadata": {
        "colab": {
          "base_uri": "https://localhost:8080/",
          "height": 84,
          "referenced_widgets": [
            "f15f426101a24e5e860a723f456929fb",
            "c05a1e03658145efa155eed40501905f",
            "42f3c2ce193d481181fa7a7960dd9dae",
            "33d825fd577d4db4bec85f2bd9312ae5",
            "b3a94acc8f48491386a5c32b2ad94ec4",
            "3e576e7d854541d99c366499853bd85a",
            "e52a6a398da347088ab40e9123f59f10",
            "47acafbd986f457d87b457a19ea23ba6",
            "3f55db11a61e4b9dbc88a7024c262a49",
            "ebac89ff5ae24db1824edc283f9c740c",
            "f249987155ba44de9b1d8f3418eb1bd6"
          ]
        },
        "id": "UxOcgK1aMque",
        "outputId": "67460c78-4299-4b3c-f1c0-48f6bf47c31a"
      },
      "outputs": [
        {
          "output_type": "stream",
          "name": "stdout",
          "text": [
            "Downloading https://www.cs.toronto.edu/~kriz/cifar-10-python.tar.gz to ./data/cifar-10-python.tar.gz\n"
          ]
        },
        {
          "output_type": "display_data",
          "data": {
            "text/plain": [
              "  0%|          | 0/170498071 [00:00<?, ?it/s]"
            ],
            "application/vnd.jupyter.widget-view+json": {
              "version_major": 2,
              "version_minor": 0,
              "model_id": "f15f426101a24e5e860a723f456929fb"
            }
          },
          "metadata": {}
        },
        {
          "output_type": "stream",
          "name": "stdout",
          "text": [
            "Extracting ./data/cifar-10-python.tar.gz to ./data\n"
          ]
        }
      ],
      "source": [
        "# Load CIFAR10 dataset\n",
        "# Available datasets at https://pytorch.org/vision/stable/datasets.html\n",
        "ROOT = './data'\n",
        "train_data = torchvision.datasets.CIFAR10(root=ROOT, train=True, download=True)\n",
        "\n",
        "# You can also use the 'transform' argument to specify transformations to apply to the dataset\n",
        "# e.g. 'train_data = torchvision.datasets.CIFAR10(root=ROOT, train=True, download=True, transform=...)'\n",
        "# See the next steps for applying transformations to a dataset."
      ]
    },
    {
      "cell_type": "code",
      "execution_count": 38,
      "metadata": {
        "id": "0wEKa1RRMvSV"
      },
      "outputs": [],
      "source": [
        "# -----  TRAIN NORMALIZATION VALUES  -----\n",
        "# Refer to the previous lab to compute mean and std.\n",
        "train_mean =  [0.49139968, 0.48215841, 0.44653091]\n",
        "train_std = [0.24703223, 0.24348513, 0.26158784]"
      ]
    },
    {
      "cell_type": "markdown",
      "metadata": {
        "id": "ROOIQqHPXFok"
      },
      "source": [
        "*   We will use 32x32 pixel as image size instead of 224x224 to speed up the training time. You can also try to add the resize transformation."
      ]
    },
    {
      "cell_type": "code",
      "execution_count": 39,
      "metadata": {
        "id": "r_2jhMjTM0LT"
      },
      "outputs": [],
      "source": [
        "# Compositions of transformations\n",
        "train_transforms = torchvision.transforms.Compose([\n",
        "                                                  #torchvision.transforms.Resize((224,224)),\n",
        "                                                   torchvision.transforms.ToTensor(), # values are normalized between 0 and 1\n",
        "                                                   torchvision.transforms.Normalize(train_mean, train_std)\n",
        "])\n",
        "\n",
        "test_transforms = torchvision.transforms.Compose([\n",
        "                                                 #torchvision.transforms.Resize((224,224)),                                                  \n",
        "                                                  torchvision.transforms.ToTensor(),\n",
        "                                                  torchvision.transforms.Normalize(train_mean, train_std)\n",
        "])"
      ]
    },
    {
      "cell_type": "code",
      "execution_count": 40,
      "metadata": {
        "colab": {
          "base_uri": "https://localhost:8080/"
        },
        "id": "DNA0Bg6tM5GJ",
        "outputId": "64bbe32c-068f-41d1-f7ed-3ed98eb66388"
      },
      "outputs": [
        {
          "output_type": "stream",
          "name": "stdout",
          "text": [
            "Files already downloaded and verified\n",
            "Files already downloaded and verified\n",
            "Dataset CIFAR10\n",
            "    Number of datapoints: 50000\n",
            "    Root location: ./data\n",
            "    Split: Train\n",
            "    StandardTransform\n",
            "Transform: Compose(\n",
            "               ToTensor()\n",
            "               Normalize(mean=[0.49139968, 0.48215841, 0.44653091], std=[0.24703223, 0.24348513, 0.26158784])\n",
            "           )\n",
            "Dataset CIFAR10\n",
            "    Number of datapoints: 10000\n",
            "    Root location: ./data\n",
            "    Split: Test\n",
            "    StandardTransform\n",
            "Transform: Compose(\n",
            "               ToTensor()\n",
            "               Normalize(mean=[0.49139968, 0.48215841, 0.44653091], std=[0.24703223, 0.24348513, 0.26158784])\n",
            "           )\n"
          ]
        }
      ],
      "source": [
        "# Load data with transformations\n",
        "train_data = torchvision.datasets.CIFAR10(root=ROOT,\n",
        "                                        train=True,\n",
        "                                        download=True,\n",
        "                                        transform=train_transforms)\n",
        "\n",
        "test_data = torchvision.datasets.CIFAR10(root=ROOT,\n",
        "                                        train=False,\n",
        "                                        download=True,\n",
        "                                        transform=test_transforms)\n",
        "print(train_data)\n",
        "print(test_data)"
      ]
    },
    {
      "cell_type": "code",
      "execution_count": 41,
      "metadata": {
        "colab": {
          "base_uri": "https://localhost:8080/"
        },
        "id": "dTp_y-R1M6kx",
        "outputId": "7d520a69-8fcd-4838-a749-4c901e49715a"
      },
      "outputs": [
        {
          "output_type": "stream",
          "name": "stdout",
          "text": [
            "Number training examples: 40000\n",
            "Number validation examples: 10000\n"
          ]
        }
      ],
      "source": [
        "valid_data = create_validation_set(train_data, 0.8, test_transforms)"
      ]
    },
    {
      "cell_type": "code",
      "execution_count": 42,
      "metadata": {
        "id": "BBAUt_WfM-q4"
      },
      "outputs": [],
      "source": [
        "# Create iterators\n",
        "BATCH_SIZE = 128\n",
        "\n",
        "train_iterator = torch.utils.data.DataLoader(train_data, \n",
        "                                             shuffle=True, \n",
        "                                             batch_size=BATCH_SIZE)\n",
        "\n",
        "valid_iterator = torch.utils.data.DataLoader(valid_data, \n",
        "                                             batch_size=BATCH_SIZE)\n",
        "\n",
        "test_iterator = torch.utils.data.DataLoader(test_data, \n",
        "                                            batch_size=BATCH_SIZE)"
      ]
    },
    {
      "cell_type": "code",
      "execution_count": 43,
      "metadata": {
        "id": "MOEOPEmKNDZo"
      },
      "outputs": [],
      "source": [
        "%%capture\n",
        "vgg16 = torchvision.models.vgg16(pretrained = False)"
      ]
    },
    {
      "cell_type": "code",
      "execution_count": 44,
      "metadata": {
        "colab": {
          "base_uri": "https://localhost:8080/"
        },
        "id": "wBSl7t_fNVTU",
        "outputId": "fa7e24ad-c709-48db-bebf-e4a2c9a17a01"
      },
      "outputs": [
        {
          "output_type": "stream",
          "name": "stdout",
          "text": [
            "VGG(\n",
            "  (features): Sequential(\n",
            "    (0): Conv2d(3, 64, kernel_size=(3, 3), stride=(1, 1), padding=(1, 1))\n",
            "    (1): ReLU(inplace=True)\n",
            "    (2): Conv2d(64, 64, kernel_size=(3, 3), stride=(1, 1), padding=(1, 1))\n",
            "    (3): ReLU(inplace=True)\n",
            "    (4): MaxPool2d(kernel_size=2, stride=2, padding=0, dilation=1, ceil_mode=False)\n",
            "    (5): Conv2d(64, 128, kernel_size=(3, 3), stride=(1, 1), padding=(1, 1))\n",
            "    (6): ReLU(inplace=True)\n",
            "    (7): Conv2d(128, 128, kernel_size=(3, 3), stride=(1, 1), padding=(1, 1))\n",
            "    (8): ReLU(inplace=True)\n",
            "    (9): MaxPool2d(kernel_size=2, stride=2, padding=0, dilation=1, ceil_mode=False)\n",
            "    (10): Conv2d(128, 256, kernel_size=(3, 3), stride=(1, 1), padding=(1, 1))\n",
            "    (11): ReLU(inplace=True)\n",
            "    (12): Conv2d(256, 256, kernel_size=(3, 3), stride=(1, 1), padding=(1, 1))\n",
            "    (13): ReLU(inplace=True)\n",
            "    (14): Conv2d(256, 256, kernel_size=(3, 3), stride=(1, 1), padding=(1, 1))\n",
            "    (15): ReLU(inplace=True)\n",
            "    (16): MaxPool2d(kernel_size=2, stride=2, padding=0, dilation=1, ceil_mode=False)\n",
            "    (17): Conv2d(256, 512, kernel_size=(3, 3), stride=(1, 1), padding=(1, 1))\n",
            "    (18): ReLU(inplace=True)\n",
            "    (19): Conv2d(512, 512, kernel_size=(3, 3), stride=(1, 1), padding=(1, 1))\n",
            "    (20): ReLU(inplace=True)\n",
            "    (21): Conv2d(512, 512, kernel_size=(3, 3), stride=(1, 1), padding=(1, 1))\n",
            "    (22): ReLU(inplace=True)\n",
            "    (23): MaxPool2d(kernel_size=2, stride=2, padding=0, dilation=1, ceil_mode=False)\n",
            "    (24): Conv2d(512, 512, kernel_size=(3, 3), stride=(1, 1), padding=(1, 1))\n",
            "    (25): ReLU(inplace=True)\n",
            "    (26): Conv2d(512, 512, kernel_size=(3, 3), stride=(1, 1), padding=(1, 1))\n",
            "    (27): ReLU(inplace=True)\n",
            "    (28): Conv2d(512, 512, kernel_size=(3, 3), stride=(1, 1), padding=(1, 1))\n",
            "    (29): ReLU(inplace=True)\n",
            "    (30): MaxPool2d(kernel_size=2, stride=2, padding=0, dilation=1, ceil_mode=False)\n",
            "  )\n",
            "  (avgpool): AdaptiveAvgPool2d(output_size=(7, 7))\n",
            "  (classifier): Sequential(\n",
            "    (0): Linear(in_features=25088, out_features=4096, bias=True)\n",
            "    (1): ReLU(inplace=True)\n",
            "    (2): Dropout(p=0.5, inplace=False)\n",
            "    (3): Linear(in_features=4096, out_features=4096, bias=True)\n",
            "    (4): ReLU(inplace=True)\n",
            "    (5): Dropout(p=0.5, inplace=False)\n",
            "    (6): Linear(in_features=4096, out_features=1000, bias=True)\n",
            "  )\n",
            ")\n"
          ]
        }
      ],
      "source": [
        "print(vgg16)"
      ]
    },
    {
      "cell_type": "markdown",
      "metadata": {
        "id": "flq0oXRMNleE"
      },
      "source": [
        "*  Let's modify the 'classifier' section of the VGG16 network since out dataset contains 10 classes."
      ]
    },
    {
      "cell_type": "code",
      "execution_count": 45,
      "metadata": {
        "colab": {
          "base_uri": "https://localhost:8080/"
        },
        "id": "Dks8qW8hNcDr",
        "outputId": "4ccc0b9b-09d0-4493-dd01-fe13dee0de43"
      },
      "outputs": [
        {
          "output_type": "stream",
          "name": "stdout",
          "text": [
            "Linear(in_features=4096, out_features=1000, bias=True)\n",
            "Input features: 4096\n",
            "Output features: 1000\n"
          ]
        }
      ],
      "source": [
        "print(vgg16.classifier[-1])\n",
        "print(f\"Input features: {vgg16.classifier[-1].in_features}\")\n",
        "print(f\"Output features: {vgg16.classifier[-1].out_features}\")"
      ]
    },
    {
      "cell_type": "code",
      "execution_count": 46,
      "metadata": {
        "colab": {
          "base_uri": "https://localhost:8080/"
        },
        "id": "Q0b5syzMN96c",
        "outputId": "fd1021bb-94ab-44bf-f4f7-e47001ada399"
      },
      "outputs": [
        {
          "output_type": "stream",
          "name": "stdout",
          "text": [
            "The model has 138,357,544 trainable parameters\n"
          ]
        }
      ],
      "source": [
        "print(f'The model has {count_parameters(vgg16):,} trainable parameters')"
      ]
    },
    {
      "cell_type": "code",
      "execution_count": 47,
      "metadata": {
        "colab": {
          "base_uri": "https://localhost:8080/"
        },
        "id": "a320BlgUOBVa",
        "outputId": "1d69bca8-5417-4b74-a7c1-0f660f0a81b8"
      },
      "outputs": [
        {
          "output_type": "stream",
          "name": "stdout",
          "text": [
            "torch.Size([1000, 4096])\n",
            "torch.Size([1000])\n"
          ]
        }
      ],
      "source": [
        "for p in vgg16.classifier[-1].parameters():\n",
        "  print(p.shape)"
      ]
    },
    {
      "cell_type": "code",
      "execution_count": 48,
      "metadata": {
        "id": "QuTlCPXFN2Zp"
      },
      "outputs": [],
      "source": [
        "OUTPUT_DIM = 10\n",
        "vgg16.classifier[-1] = nn.Linear(vgg16.classifier[-1].in_features, OUTPUT_DIM)"
      ]
    },
    {
      "cell_type": "code",
      "execution_count": 49,
      "metadata": {
        "colab": {
          "base_uri": "https://localhost:8080/"
        },
        "id": "lL3ORuVKN8HO",
        "outputId": "4989043c-1a31-4f1f-b53e-3072e2a4122f"
      },
      "outputs": [
        {
          "output_type": "stream",
          "name": "stdout",
          "text": [
            "Sequential(\n",
            "  (0): Linear(in_features=25088, out_features=4096, bias=True)\n",
            "  (1): ReLU(inplace=True)\n",
            "  (2): Dropout(p=0.5, inplace=False)\n",
            "  (3): Linear(in_features=4096, out_features=4096, bias=True)\n",
            "  (4): ReLU(inplace=True)\n",
            "  (5): Dropout(p=0.5, inplace=False)\n",
            "  (6): Linear(in_features=4096, out_features=10, bias=True)\n",
            ")\n"
          ]
        }
      ],
      "source": [
        "print(vgg16.classifier)"
      ]
    },
    {
      "cell_type": "code",
      "execution_count": 50,
      "metadata": {
        "colab": {
          "base_uri": "https://localhost:8080/"
        },
        "id": "npRC8-L9OFBn",
        "outputId": "149a03cb-ed50-4b4f-f092-3addee949dc1"
      },
      "outputs": [
        {
          "output_type": "stream",
          "name": "stdout",
          "text": [
            "The model has 134,301,514 trainable parameters\n"
          ]
        }
      ],
      "source": [
        "print(f'The model has {count_parameters(vgg16):,} trainable parameters')"
      ]
    },
    {
      "cell_type": "code",
      "execution_count": 51,
      "metadata": {
        "colab": {
          "base_uri": "https://localhost:8080/"
        },
        "id": "Fu3WrY-FONsT",
        "outputId": "9e753a25-246c-4dbd-d55e-de24eccdfb17"
      },
      "outputs": [
        {
          "output_type": "stream",
          "name": "stdout",
          "text": [
            "torch.Size([10, 4096])\n",
            "torch.Size([10])\n"
          ]
        }
      ],
      "source": [
        "for p in vgg16.classifier[-1].parameters():\n",
        "  print(p.shape)"
      ]
    },
    {
      "cell_type": "code",
      "execution_count": 52,
      "metadata": {
        "id": "o_z03WWoOVoa"
      },
      "outputs": [],
      "source": [
        "# Optim\n",
        "optimizer = optim.Adam(vgg16.parameters(), lr=1e-5)\n",
        "\n",
        "vgg16 = vgg16.to(device)"
      ]
    },
    {
      "cell_type": "code",
      "execution_count": 53,
      "metadata": {
        "colab": {
          "base_uri": "https://localhost:8080/"
        },
        "id": "Mj_wHNnCOj0W",
        "outputId": "89eaae53-5247-44d6-8dc3-d1633eaa6526"
      },
      "outputs": [
        {
          "output_type": "stream",
          "name": "stdout",
          "text": [
            "\n",
            "Epoch: 1/30 -- Epoch Time: 70.37 s\n",
            "---------------------------------\n",
            "Train -- Loss: 1.960, Acc: 25.38%\n",
            "Val -- Loss: 1.692, Acc: 36.09%\n",
            "\n",
            "Epoch: 2/30 -- Epoch Time: 70.52 s\n",
            "---------------------------------\n",
            "Train -- Loss: 1.588, Acc: 40.25%\n",
            "Val -- Loss: 1.451, Acc: 45.91%\n",
            "\n",
            "Epoch: 3/30 -- Epoch Time: 70.50 s\n",
            "---------------------------------\n",
            "Train -- Loss: 1.430, Acc: 47.29%\n",
            "Val -- Loss: 1.309, Acc: 51.71%\n",
            "\n",
            "Epoch: 4/30 -- Epoch Time: 70.57 s\n",
            "---------------------------------\n",
            "Train -- Loss: 1.315, Acc: 52.05%\n",
            "Val -- Loss: 1.211, Acc: 55.47%\n",
            "\n",
            "Epoch: 5/30 -- Epoch Time: 70.66 s\n",
            "---------------------------------\n",
            "Train -- Loss: 1.225, Acc: 55.43%\n",
            "Val -- Loss: 1.192, Acc: 56.81%\n",
            "\n",
            "Epoch: 6/30 -- Epoch Time: 70.65 s\n",
            "---------------------------------\n",
            "Train -- Loss: 1.146, Acc: 58.38%\n",
            "Val -- Loss: 1.051, Acc: 61.64%\n",
            "\n",
            "Epoch: 7/30 -- Epoch Time: 70.52 s\n",
            "---------------------------------\n",
            "Train -- Loss: 1.081, Acc: 60.87%\n",
            "Val -- Loss: 0.977, Acc: 64.34%\n",
            "\n",
            "Epoch: 8/30 -- Epoch Time: 70.61 s\n",
            "---------------------------------\n",
            "Train -- Loss: 1.010, Acc: 63.64%\n",
            "Val -- Loss: 0.909, Acc: 66.75%\n",
            "\n",
            "Epoch: 9/30 -- Epoch Time: 68.89 s\n",
            "---------------------------------\n",
            "Train -- Loss: 0.944, Acc: 66.07%\n",
            "Val -- Loss: 0.918, Acc: 66.30%\n",
            "\n",
            "Epoch: 10/30 -- Epoch Time: 70.47 s\n",
            "---------------------------------\n",
            "Train -- Loss: 0.893, Acc: 68.14%\n",
            "Val -- Loss: 0.812, Acc: 70.44%\n",
            "\n",
            "Epoch: 11/30 -- Epoch Time: 70.61 s\n",
            "---------------------------------\n",
            "Train -- Loss: 0.818, Acc: 70.97%\n",
            "Val -- Loss: 0.769, Acc: 72.34%\n",
            "\n",
            "Epoch: 12/30 -- Epoch Time: 70.72 s\n",
            "---------------------------------\n",
            "Train -- Loss: 0.771, Acc: 72.56%\n",
            "Val -- Loss: 0.672, Acc: 75.89%\n",
            "\n",
            "Epoch: 13/30 -- Epoch Time: 70.59 s\n",
            "---------------------------------\n",
            "Train -- Loss: 0.704, Acc: 75.10%\n",
            "Val -- Loss: 0.597, Acc: 79.04%\n",
            "\n",
            "Epoch: 14/30 -- Epoch Time: 70.51 s\n",
            "---------------------------------\n",
            "Train -- Loss: 0.649, Acc: 77.06%\n",
            "Val -- Loss: 0.514, Acc: 82.00%\n",
            "\n",
            "Epoch: 15/30 -- Epoch Time: 70.53 s\n",
            "---------------------------------\n",
            "Train -- Loss: 0.575, Acc: 79.68%\n",
            "Val -- Loss: 0.457, Acc: 83.86%\n",
            "\n",
            "Epoch: 16/30 -- Epoch Time: 70.80 s\n",
            "---------------------------------\n",
            "Train -- Loss: 0.506, Acc: 82.21%\n",
            "Val -- Loss: 0.437, Acc: 84.36%\n",
            "\n",
            "Epoch: 17/30 -- Epoch Time: 70.56 s\n",
            "---------------------------------\n",
            "Train -- Loss: 0.456, Acc: 83.75%\n",
            "Val -- Loss: 0.395, Acc: 85.87%\n",
            "\n",
            "Epoch: 18/30 -- Epoch Time: 70.62 s\n",
            "---------------------------------\n",
            "Train -- Loss: 0.399, Acc: 85.99%\n",
            "Val -- Loss: 0.267, Acc: 91.41%\n",
            "\n",
            "Epoch: 19/30 -- Epoch Time: 68.77 s\n",
            "---------------------------------\n",
            "Train -- Loss: 0.348, Acc: 87.69%\n",
            "Val -- Loss: 0.313, Acc: 88.68%\n",
            "\n",
            "Epoch: 20/30 -- Epoch Time: 70.56 s\n",
            "---------------------------------\n",
            "Train -- Loss: 0.303, Acc: 89.43%\n",
            "Val -- Loss: 0.213, Acc: 93.05%\n",
            "\n",
            "Epoch: 21/30 -- Epoch Time: 70.74 s\n",
            "---------------------------------\n",
            "Train -- Loss: 0.239, Acc: 91.78%\n",
            "Val -- Loss: 0.153, Acc: 95.50%\n",
            "\n",
            "Epoch: 22/30 -- Epoch Time: 70.61 s\n",
            "---------------------------------\n",
            "Train -- Loss: 0.229, Acc: 92.07%\n",
            "Val -- Loss: 0.125, Acc: 96.40%\n",
            "\n",
            "Epoch: 23/30 -- Epoch Time: 68.80 s\n",
            "---------------------------------\n",
            "Train -- Loss: 0.170, Acc: 94.30%\n",
            "Val -- Loss: 0.155, Acc: 95.14%\n",
            "\n",
            "Epoch: 24/30 -- Epoch Time: 70.44 s\n",
            "---------------------------------\n",
            "Train -- Loss: 0.141, Acc: 95.27%\n",
            "Val -- Loss: 0.089, Acc: 97.47%\n",
            "\n",
            "Epoch: 25/30 -- Epoch Time: 70.79 s\n",
            "---------------------------------\n",
            "Train -- Loss: 0.142, Acc: 95.23%\n",
            "Val -- Loss: 0.070, Acc: 98.05%\n",
            "\n",
            "Epoch: 26/30 -- Epoch Time: 70.64 s\n",
            "---------------------------------\n",
            "Train -- Loss: 0.092, Acc: 96.98%\n",
            "Val -- Loss: 0.059, Acc: 98.38%\n",
            "\n",
            "Epoch: 27/30 -- Epoch Time: 68.91 s\n",
            "---------------------------------\n",
            "Train -- Loss: 0.095, Acc: 96.78%\n",
            "Val -- Loss: 0.075, Acc: 97.38%\n",
            "\n",
            "Epoch: 28/30 -- Epoch Time: 70.63 s\n",
            "---------------------------------\n",
            "Train -- Loss: 0.071, Acc: 97.73%\n",
            "Val -- Loss: 0.050, Acc: 98.53%\n",
            "\n",
            "Epoch: 29/30 -- Epoch Time: 68.65 s\n",
            "---------------------------------\n",
            "Train -- Loss: 0.089, Acc: 97.00%\n",
            "Val -- Loss: 0.060, Acc: 98.08%\n",
            "\n",
            "Epoch: 30/30 -- Epoch Time: 70.62 s\n",
            "---------------------------------\n",
            "Train -- Loss: 0.060, Acc: 98.09%\n",
            "Val -- Loss: 0.033, Acc: 99.11%\n"
          ]
        }
      ],
      "source": [
        "N_EPOCHS = 30\n",
        "train_losses_vgg16_scratch, train_accs_vgg16_scratch, valid_losses_vgg16_scratch, valid_accs_vgg16_scratch = model_training(N_EPOCHS, \n",
        "                                                                                                                            vgg16,\n",
        "                                                                                                                            train_iterator,\n",
        "                                                                                                                            valid_iterator,\n",
        "                                                                                                                            optimizer,\n",
        "                                                                                                                            criterion,\n",
        "                                                                                                                            device,\n",
        "                                                                                                                            'vgg16.pt') "
      ]
    },
    {
      "cell_type": "code",
      "execution_count": 54,
      "metadata": {
        "colab": {
          "base_uri": "https://localhost:8080/",
          "height": 369
        },
        "id": "2lNsq2sjOorw",
        "outputId": "f992cc0c-8c54-4cab-db91-6cefd81e6c08"
      },
      "outputs": [
        {
          "output_type": "display_data",
          "data": {
            "text/plain": [
              "<Figure size 1440x432 with 2 Axes>"
            ],
            "image/png": "[encoded data removed]"
          },
          "metadata": {
            "needs_background": "light"
          }
        }
      ],
      "source": [
        "plot_results(N_EPOCHS, train_losses_vgg16_scratch, train_accs_vgg16_scratch, valid_losses_vgg16_scratch, valid_accs_vgg16_scratch)"
      ]
    },
    {
      "cell_type": "code",
      "execution_count": 55,
      "metadata": {
        "colab": {
          "base_uri": "https://localhost:8080/"
        },
        "id": "Piehg0NBOwQT",
        "outputId": "4ca19a6b-5904-478c-d6ed-5c814347db66"
      },
      "outputs": [
        {
          "output_type": "stream",
          "name": "stdout",
          "text": [
            "Test -- Loss: 2.233, Acc: 63.53 %\n"
          ]
        }
      ],
      "source": [
        "model_testing(vgg16, test_iterator, criterion, device, 'vgg16.pt')"
      ]
    },
    {
      "cell_type": "code",
      "execution_count": 56,
      "metadata": {
        "colab": {
          "base_uri": "https://localhost:8080/"
        },
        "id": "4Ix_Qd9COzGT",
        "outputId": "f41b0b44-5818-410f-a824-1d3b0175ea2e"
      },
      "outputs": [
        {
          "output_type": "stream",
          "name": "stdout",
          "text": [
            "[[737  22  43  23  52   0  12  10  64  37]\n",
            " [ 33 761   5  16  13   2  27   5  31 107]\n",
            " [ 86   4 506  99 173  46  50  21   8   7]\n",
            " [ 29  10  91 498 122 121  73  24  20  12]\n",
            " [ 29   5  71  66 686  28  57  45  10   3]\n",
            " [ 18   7  65 286 111 425  25  50  10   3]\n",
            " [  6   5  50  81 107  13 727   5   3   3]\n",
            " [ 26   8  36  56 167  64   7 600   2  34]\n",
            " [ 95  55  11  16  17   6  11   3 745  41]\n",
            " [ 52 139   8  27  13   8  24  23  37 669]]\n",
            "\n",
            "\n",
            "              precision    recall  f1-score   support\n",
            "\n",
            "           0       0.66      0.74      0.70      1000\n",
            "           1       0.75      0.76      0.75      1000\n",
            "           2       0.57      0.51      0.54      1000\n",
            "           3       0.43      0.50      0.46      1000\n",
            "           4       0.47      0.69      0.56      1000\n",
            "           5       0.60      0.42      0.50      1000\n",
            "           6       0.72      0.73      0.72      1000\n",
            "           7       0.76      0.60      0.67      1000\n",
            "           8       0.80      0.74      0.77      1000\n",
            "           9       0.73      0.67      0.70      1000\n",
            "\n",
            "    accuracy                           0.64     10000\n",
            "   macro avg       0.65      0.64      0.64     10000\n",
            "weighted avg       0.65      0.64      0.64     10000\n",
            "\n"
          ]
        }
      ],
      "source": [
        "print_report(vgg16, test_iterator, device)"
      ]
    },
    {
      "cell_type": "markdown",
      "metadata": {
        "id": "LUA_jKz4Pxmc"
      },
      "source": [
        "# Transfer Learning\n",
        "\n",
        "\n",
        "*  Finetuning\n",
        "*  Feature extraction\n",
        "\n",
        "In finetuning, we use a pretrained model and update all of its parameters for the new task (**the whole model is retrained**). In feature extraction, we use a pretrained model and only update the final layer(s) weights. In this case, we use a pretrained CNN as a **fixed** feature-extractor, and only change its output layer(s).\n",
        "\n",
        "Steps for both transfer learning methods:\n",
        "\n",
        "*  Initialize a pretrained model;\n",
        "*  Reshape the final layer(s) to match number of outputs and number of classes in the new dataset;\n",
        "*  Define which parameters must be updated during training;\n",
        "*  Train the network."
      ]
    },
    {
      "cell_type": "markdown",
      "metadata": {
        "id": "LOedS1ESaUnI"
      },
      "source": [
        "*  Data normalization\n",
        "\n",
        "From the PyTorch website (https://pytorch.org/vision/stable/models.html):\n",
        "\n",
        "> All pre-trained models expect input images normalized in the same way, i.e. mini-batches of 3-channel RGB images of shape (3 x H x W), where H and W are expected to be at least 224. The images have to be loaded in to a range of [0, 1] and then normalized using mean = [0.485, 0.456, 0.406] and std = [0.229, 0.224, 0.225]."
      ]
    },
    {
      "cell_type": "code",
      "execution_count": 57,
      "metadata": {
        "id": "_WWwlyEFZrPb"
      },
      "outputs": [],
      "source": [
        "# Normalize CIFAR10\n",
        "mean_imagenet = [0.485, 0.456, 0.406]\n",
        "std_imagenet = [0.229, 0.224, 0.225]"
      ]
    },
    {
      "cell_type": "code",
      "execution_count": 58,
      "metadata": {
        "id": "BpWwAwC1Z52R"
      },
      "outputs": [],
      "source": [
        "# Compositions of transformations\n",
        "train_transforms = torchvision.transforms.Compose([\n",
        "                                                    #torchvision.transforms.Resize((224,224)),\n",
        "                                                    torchvision.transforms.RandomHorizontalFlip(),\n",
        "                                                    torchvision.transforms.ToTensor(), # values are normalized between 0 and 1\n",
        "                                                    torchvision.transforms.Normalize(mean_imagenet, std_imagenet)\n",
        "])\n",
        "\n",
        "test_transforms = torchvision.transforms.Compose([\n",
        "                                                    #torchvision.transforms.Resize((224,224)),\n",
        "                                                    torchvision.transforms.ToTensor(),\n",
        "                                                    torchvision.transforms.Normalize(mean_imagenet, std_imagenet)\n",
        "])"
      ]
    },
    {
      "cell_type": "code",
      "execution_count": 59,
      "metadata": {
        "colab": {
          "base_uri": "https://localhost:8080/"
        },
        "id": "WXVr_kk3aAYv",
        "outputId": "58862ffc-2b20-4cf9-9164-ab02fe418a93"
      },
      "outputs": [
        {
          "output_type": "stream",
          "name": "stdout",
          "text": [
            "Files already downloaded and verified\n",
            "Files already downloaded and verified\n",
            "Dataset CIFAR10\n",
            "    Number of datapoints: 50000\n",
            "    Root location: ./data\n",
            "    Split: Train\n",
            "    StandardTransform\n",
            "Transform: Compose(\n",
            "               RandomHorizontalFlip(p=0.5)\n",
            "               ToTensor()\n",
            "               Normalize(mean=[0.485, 0.456, 0.406], std=[0.229, 0.224, 0.225])\n",
            "           )\n",
            "Dataset CIFAR10\n",
            "    Number of datapoints: 10000\n",
            "    Root location: ./data\n",
            "    Split: Test\n",
            "    StandardTransform\n",
            "Transform: Compose(\n",
            "               ToTensor()\n",
            "               Normalize(mean=[0.485, 0.456, 0.406], std=[0.229, 0.224, 0.225])\n",
            "           )\n"
          ]
        }
      ],
      "source": [
        "# Load data with transformations\n",
        "train_data = torchvision.datasets.CIFAR10(root=ROOT,\n",
        "                                        train=True,\n",
        "                                        download=True,\n",
        "                                        transform=train_transforms)\n",
        "\n",
        "test_data = torchvision.datasets.CIFAR10(root=ROOT,\n",
        "                                        train=False,\n",
        "                                        download=True,\n",
        "                                        transform=test_transforms)\n",
        "print(train_data)\n",
        "print(test_data)"
      ]
    },
    {
      "cell_type": "code",
      "execution_count": 60,
      "metadata": {
        "colab": {
          "base_uri": "https://localhost:8080/"
        },
        "id": "1nyc5GIzaCt-",
        "outputId": "cd83c22f-7b67-43a3-d9b0-64cc358e4dc2"
      },
      "outputs": [
        {
          "output_type": "stream",
          "name": "stdout",
          "text": [
            "Number training examples: 40000\n",
            "Number validation examples: 10000\n"
          ]
        }
      ],
      "source": [
        "valid_data = create_validation_set(train_data, 0.8, test_transforms)"
      ]
    },
    {
      "cell_type": "code",
      "execution_count": 61,
      "metadata": {
        "id": "IYVlRszDaFTC"
      },
      "outputs": [],
      "source": [
        "# Create iterators\n",
        "BATCH_SIZE = 128\n",
        "\n",
        "train_iterator = torch.utils.data.DataLoader(train_data, \n",
        "                                             shuffle=True, \n",
        "                                             batch_size=BATCH_SIZE)\n",
        "\n",
        "valid_iterator = torch.utils.data.DataLoader(valid_data, \n",
        "                                             batch_size=BATCH_SIZE)\n",
        "\n",
        "test_iterator = torch.utils.data.DataLoader(test_data, \n",
        "                                            batch_size=BATCH_SIZE)"
      ]
    },
    {
      "cell_type": "markdown",
      "metadata": {
        "id": "oqs2rkR-daTo"
      },
      "source": [
        "*  Finetuning"
      ]
    },
    {
      "cell_type": "code",
      "execution_count": 62,
      "metadata": {
        "id": "mnhrQAJhdMj6"
      },
      "outputs": [],
      "source": [
        "%%capture\n",
        "vgg16_fine_tuning = torchvision.models.vgg16(pretrained = True) # Load weights"
      ]
    },
    {
      "cell_type": "code",
      "execution_count": 63,
      "metadata": {
        "colab": {
          "base_uri": "https://localhost:8080/"
        },
        "id": "js0a9yJY6Hk0",
        "outputId": "e022349e-7d37-4886-d2ff-cf5e0ce609f1"
      },
      "outputs": [
        {
          "output_type": "stream",
          "name": "stdout",
          "text": [
            "Linear(in_features=4096, out_features=1000, bias=True)\n"
          ]
        }
      ],
      "source": [
        "print(vgg16_fine_tuning.classifier[-1])"
      ]
    },
    {
      "cell_type": "code",
      "execution_count": 64,
      "metadata": {
        "id": "hTQKp7igdMrF"
      },
      "outputs": [],
      "source": [
        "# Define new output layer\n",
        "OUTPUT_DIM = 10\n",
        "vgg16_fine_tuning.classifier[-1] = nn.Linear(vgg16_fine_tuning.classifier[-1].in_features, OUTPUT_DIM)"
      ]
    },
    {
      "cell_type": "code",
      "execution_count": 65,
      "metadata": {
        "id": "qEho2RG9dMzB"
      },
      "outputs": [],
      "source": [
        "# Optim\n",
        "optimizer = optim.Adam(vgg16_fine_tuning.parameters(), lr=1e-5)\n",
        "\n",
        "vgg16_fine_tuning = vgg16_fine_tuning.to(device)"
      ]
    },
    {
      "cell_type": "code",
      "execution_count": 66,
      "metadata": {
        "colab": {
          "base_uri": "https://localhost:8080/"
        },
        "id": "1VBjJds8dM6i",
        "outputId": "1e70f794-a816-4b8c-c296-c7e1f7737e40"
      },
      "outputs": [
        {
          "output_type": "stream",
          "name": "stdout",
          "text": [
            "\n",
            "Epoch: 1/30 -- Epoch Time: 71.89 s\n",
            "---------------------------------\n",
            "Train -- Loss: 1.114, Acc: 61.22%\n",
            "Val -- Loss: 0.643, Acc: 78.15%\n",
            "\n",
            "Epoch: 2/30 -- Epoch Time: 72.30 s\n",
            "---------------------------------\n",
            "Train -- Loss: 0.630, Acc: 78.46%\n",
            "Val -- Loss: 0.520, Acc: 82.54%\n",
            "\n",
            "Epoch: 3/30 -- Epoch Time: 72.00 s\n",
            "---------------------------------\n",
            "Train -- Loss: 0.517, Acc: 82.32%\n",
            "Val -- Loss: 0.430, Acc: 85.29%\n",
            "\n",
            "Epoch: 4/30 -- Epoch Time: 72.24 s\n",
            "---------------------------------\n",
            "Train -- Loss: 0.439, Acc: 85.09%\n",
            "Val -- Loss: 0.364, Acc: 87.57%\n",
            "\n",
            "Epoch: 5/30 -- Epoch Time: 71.88 s\n",
            "---------------------------------\n",
            "Train -- Loss: 0.385, Acc: 86.90%\n",
            "Val -- Loss: 0.316, Acc: 89.01%\n",
            "\n",
            "Epoch: 6/30 -- Epoch Time: 71.84 s\n",
            "---------------------------------\n",
            "Train -- Loss: 0.335, Acc: 88.58%\n",
            "Val -- Loss: 0.281, Acc: 90.15%\n",
            "\n",
            "Epoch: 7/30 -- Epoch Time: 71.94 s\n",
            "---------------------------------\n",
            "Train -- Loss: 0.292, Acc: 90.00%\n",
            "Val -- Loss: 0.246, Acc: 91.41%\n",
            "\n",
            "Epoch: 8/30 -- Epoch Time: 72.13 s\n",
            "---------------------------------\n",
            "Train -- Loss: 0.256, Acc: 91.27%\n",
            "Val -- Loss: 0.212, Acc: 92.74%\n",
            "\n",
            "Epoch: 9/30 -- Epoch Time: 72.04 s\n",
            "---------------------------------\n",
            "Train -- Loss: 0.226, Acc: 92.30%\n",
            "Val -- Loss: 0.175, Acc: 94.40%\n",
            "\n",
            "Epoch: 10/30 -- Epoch Time: 72.18 s\n",
            "---------------------------------\n",
            "Train -- Loss: 0.195, Acc: 93.36%\n",
            "Val -- Loss: 0.143, Acc: 95.31%\n",
            "\n",
            "Epoch: 11/30 -- Epoch Time: 71.88 s\n",
            "---------------------------------\n",
            "Train -- Loss: 0.168, Acc: 94.37%\n",
            "Val -- Loss: 0.121, Acc: 96.18%\n",
            "\n",
            "Epoch: 12/30 -- Epoch Time: 72.10 s\n",
            "---------------------------------\n",
            "Train -- Loss: 0.144, Acc: 95.01%\n",
            "Val -- Loss: 0.103, Acc: 96.79%\n",
            "\n",
            "Epoch: 13/30 -- Epoch Time: 71.95 s\n",
            "---------------------------------\n",
            "Train -- Loss: 0.119, Acc: 95.98%\n",
            "Val -- Loss: 0.084, Acc: 97.43%\n",
            "\n",
            "Epoch: 14/30 -- Epoch Time: 71.75 s\n",
            "---------------------------------\n",
            "Train -- Loss: 0.102, Acc: 96.55%\n",
            "Val -- Loss: 0.063, Acc: 98.11%\n",
            "\n",
            "Epoch: 15/30 -- Epoch Time: 71.60 s\n",
            "---------------------------------\n",
            "Train -- Loss: 0.085, Acc: 97.19%\n",
            "Val -- Loss: 0.058, Acc: 98.30%\n",
            "\n",
            "Epoch: 16/30 -- Epoch Time: 71.81 s\n",
            "---------------------------------\n",
            "Train -- Loss: 0.070, Acc: 97.68%\n",
            "Val -- Loss: 0.040, Acc: 98.82%\n",
            "\n",
            "Epoch: 17/30 -- Epoch Time: 71.74 s\n",
            "---------------------------------\n",
            "Train -- Loss: 0.057, Acc: 98.14%\n",
            "Val -- Loss: 0.035, Acc: 98.98%\n",
            "\n",
            "Epoch: 18/30 -- Epoch Time: 71.69 s\n",
            "---------------------------------\n",
            "Train -- Loss: 0.047, Acc: 98.49%\n",
            "Val -- Loss: 0.025, Acc: 99.29%\n",
            "\n",
            "Epoch: 19/30 -- Epoch Time: 71.70 s\n",
            "---------------------------------\n",
            "Train -- Loss: 0.039, Acc: 98.76%\n",
            "Val -- Loss: 0.023, Acc: 99.44%\n",
            "\n",
            "Epoch: 20/30 -- Epoch Time: 72.08 s\n",
            "---------------------------------\n",
            "Train -- Loss: 0.033, Acc: 98.94%\n",
            "Val -- Loss: 0.014, Acc: 99.67%\n",
            "\n",
            "Epoch: 21/30 -- Epoch Time: 69.92 s\n",
            "---------------------------------\n",
            "Train -- Loss: 0.029, Acc: 99.04%\n",
            "Val -- Loss: 0.017, Acc: 99.51%\n",
            "\n",
            "Epoch: 22/30 -- Epoch Time: 69.76 s\n",
            "---------------------------------\n",
            "Train -- Loss: 0.024, Acc: 99.23%\n",
            "Val -- Loss: 0.015, Acc: 99.55%\n",
            "\n",
            "Epoch: 23/30 -- Epoch Time: 73.78 s\n",
            "---------------------------------\n",
            "Train -- Loss: 0.021, Acc: 99.29%\n",
            "Val -- Loss: 0.012, Acc: 99.60%\n",
            "\n",
            "Epoch: 24/30 -- Epoch Time: 72.04 s\n",
            "---------------------------------\n",
            "Train -- Loss: 0.018, Acc: 99.41%\n",
            "Val -- Loss: 0.007, Acc: 99.84%\n",
            "\n",
            "Epoch: 25/30 -- Epoch Time: 69.86 s\n",
            "---------------------------------\n",
            "Train -- Loss: 0.018, Acc: 99.40%\n",
            "Val -- Loss: 0.014, Acc: 99.56%\n",
            "\n",
            "Epoch: 26/30 -- Epoch Time: 69.80 s\n",
            "---------------------------------\n",
            "Train -- Loss: 0.018, Acc: 99.46%\n",
            "Val -- Loss: 0.012, Acc: 99.69%\n",
            "\n",
            "Epoch: 27/30 -- Epoch Time: 69.80 s\n",
            "---------------------------------\n",
            "Train -- Loss: 0.013, Acc: 99.55%\n",
            "Val -- Loss: 0.008, Acc: 99.74%\n",
            "\n",
            "Epoch: 28/30 -- Epoch Time: 71.58 s\n",
            "---------------------------------\n",
            "Train -- Loss: 0.013, Acc: 99.59%\n",
            "Val -- Loss: 0.011, Acc: 99.71%\n",
            "\n",
            "Epoch: 29/30 -- Epoch Time: 72.61 s\n",
            "---------------------------------\n",
            "Train -- Loss: 0.014, Acc: 99.52%\n",
            "Val -- Loss: 0.004, Acc: 99.91%\n",
            "\n",
            "Epoch: 30/30 -- Epoch Time: 69.84 s\n",
            "---------------------------------\n",
            "Train -- Loss: 0.011, Acc: 99.65%\n",
            "Val -- Loss: 0.007, Acc: 99.81%\n"
          ]
        }
      ],
      "source": [
        "N_EPOCHS = 30\n",
        "train_losses_vgg16_fine_tuning, train_accs_vgg16_fine_tuning, valid_losses_vgg16_fine_tuning, valid_accs_vgg16_fine_tuning = model_training(N_EPOCHS, \n",
        "                                                                                                                            vgg16_fine_tuning,\n",
        "                                                                                                                            train_iterator,\n",
        "                                                                                                                            valid_iterator,\n",
        "                                                                                                                            optimizer,\n",
        "                                                                                                                            criterion,\n",
        "                                                                                                                            device,\n",
        "                                                                                                                            'vgg16_fine_tuning.pt') "
      ]
    },
    {
      "cell_type": "code",
      "execution_count": 67,
      "metadata": {
        "colab": {
          "base_uri": "https://localhost:8080/",
          "height": 371
        },
        "id": "wY3Y5X_LdWCe",
        "outputId": "362e8a6f-4df7-46ac-92d2-e24fa509c593"
      },
      "outputs": [
        {
          "output_type": "display_data",
          "data": {
            "text/plain": [
              "<Figure size 1440x432 with 2 Axes>"
            ],
            "image/png": "[encoded data removed]"
          },
          "metadata": {
            "needs_background": "light"
          }
        }
      ],
      "source": [
        "plot_results(N_EPOCHS, train_losses_vgg16_fine_tuning, train_accs_vgg16_fine_tuning, valid_losses_vgg16_fine_tuning, valid_accs_vgg16_fine_tuning)"
      ]
    },
    {
      "cell_type": "code",
      "execution_count": 68,
      "metadata": {
        "colab": {
          "base_uri": "https://localhost:8080/"
        },
        "id": "NJOtpHUsdWJE",
        "outputId": "dce65333-be57-4d20-87b0-d640b53e1eae"
      },
      "outputs": [
        {
          "output_type": "stream",
          "name": "stdout",
          "text": [
            "Test -- Loss: 0.948, Acc: 87.25 %\n"
          ]
        }
      ],
      "source": [
        "model_testing(vgg16_fine_tuning, test_iterator, criterion, device, 'vgg16_fine_tuning.pt')"
      ]
    },
    {
      "cell_type": "code",
      "execution_count": 69,
      "metadata": {
        "colab": {
          "base_uri": "https://localhost:8080/"
        },
        "id": "uhva1txtdWQq",
        "outputId": "862dac87-1e93-4ece-a7f9-a7ad2afe539d"
      },
      "outputs": [
        {
          "output_type": "stream",
          "name": "stdout",
          "text": [
            "[[884  10  22   8  11   3   3   8  37  14]\n",
            " [  9 942   0   1   0   0   0   0   8  40]\n",
            " [ 16   1 830  34  40  21  44  11   2   1]\n",
            " [  8   5  34 730  36 115  44  19   4   5]\n",
            " [  2   1  35  26 855  20  21  31   7   2]\n",
            " [  2   0  21 126  25 786  10  29   1   0]\n",
            " [  3   1  16  18  14   6 938   1   2   1]\n",
            " [  7   1  14  22  26  24   4 895   3   4]\n",
            " [ 17   7   5   2   3   1   1   1 955   8]\n",
            " [  8  50   0   1   0   0   1   0  16 924]]\n",
            "\n",
            "\n",
            "              precision    recall  f1-score   support\n",
            "\n",
            "           0       0.92      0.88      0.90      1000\n",
            "           1       0.93      0.94      0.93      1000\n",
            "           2       0.85      0.83      0.84      1000\n",
            "           3       0.75      0.73      0.74      1000\n",
            "           4       0.85      0.85      0.85      1000\n",
            "           5       0.81      0.79      0.80      1000\n",
            "           6       0.88      0.94      0.91      1000\n",
            "           7       0.90      0.90      0.90      1000\n",
            "           8       0.92      0.95      0.94      1000\n",
            "           9       0.92      0.92      0.92      1000\n",
            "\n",
            "    accuracy                           0.87     10000\n",
            "   macro avg       0.87      0.87      0.87     10000\n",
            "weighted avg       0.87      0.87      0.87     10000\n",
            "\n"
          ]
        }
      ],
      "source": [
        "print_report(vgg16_fine_tuning, test_iterator, device)"
      ]
    },
    {
      "cell_type": "markdown",
      "metadata": {
        "id": "-hOux2_AdqRR"
      },
      "source": [
        "* Feature extraction\n"
      ]
    },
    {
      "cell_type": "code",
      "execution_count": 70,
      "metadata": {
        "id": "g76fHy45aF1b"
      },
      "outputs": [],
      "source": [
        "%%capture\n",
        "vgg16_feat_extract = torchvision.models.vgg16(pretrained = True) # Load weights"
      ]
    },
    {
      "cell_type": "code",
      "execution_count": 71,
      "metadata": {
        "id": "F3TBm8G6azHx"
      },
      "outputs": [],
      "source": [
        "OUTPUT_DIM = 10\n",
        "vgg16_feat_extract.classifier[-1] = nn.Linear(vgg16_feat_extract.classifier[-1].in_features, OUTPUT_DIM)"
      ]
    },
    {
      "cell_type": "code",
      "execution_count": 72,
      "metadata": {
        "id": "p6gjU8Nma87q"
      },
      "outputs": [],
      "source": [
        "# Freeze all \"features\" layers\n",
        "for parameter in vgg16_feat_extract.features.parameters():\n",
        "  parameter.requires_grad = False\n",
        "# Uncomment the following line to freeze all the \"classifier\" layers but the last FC layer\n",
        "# for parameter in vgg16_feat_extract.classifier[:-1].parameters():\n",
        "#   parameter.requires_grad = False"
      ]
    },
    {
      "cell_type": "code",
      "execution_count": 73,
      "metadata": {
        "id": "q6vz1HCLbl3T"
      },
      "outputs": [],
      "source": [
        "# Optim\n",
        "optimizer = optim.SGD(vgg16_feat_extract.parameters(), lr=1e-3)\n",
        "\n",
        "vgg16_feat_extract = vgg16_feat_extract.to(device)"
      ]
    },
    {
      "cell_type": "code",
      "execution_count": 74,
      "metadata": {
        "colab": {
          "base_uri": "https://localhost:8080/"
        },
        "id": "JwdAmWp8bnff",
        "outputId": "866643a4-b834-4715-98e3-1c9ca2ccb7f4"
      },
      "outputs": [
        {
          "output_type": "stream",
          "name": "stdout",
          "text": [
            "\n",
            "Epoch: 1/30 -- Epoch Time: 35.07 s\n",
            "---------------------------------\n",
            "Train -- Loss: 1.554, Acc: 46.42%\n",
            "Val -- Loss: 1.160, Acc: 59.79%\n",
            "\n",
            "Epoch: 2/30 -- Epoch Time: 35.61 s\n",
            "---------------------------------\n",
            "Train -- Loss: 1.265, Acc: 56.20%\n",
            "Val -- Loss: 1.080, Acc: 62.33%\n",
            "\n",
            "Epoch: 3/30 -- Epoch Time: 35.52 s\n",
            "---------------------------------\n",
            "Train -- Loss: 1.196, Acc: 58.42%\n",
            "Val -- Loss: 1.040, Acc: 64.10%\n",
            "\n",
            "Epoch: 4/30 -- Epoch Time: 35.84 s\n",
            "---------------------------------\n",
            "Train -- Loss: 1.155, Acc: 59.88%\n",
            "Val -- Loss: 1.014, Acc: 64.52%\n",
            "\n",
            "Epoch: 5/30 -- Epoch Time: 35.78 s\n",
            "---------------------------------\n",
            "Train -- Loss: 1.130, Acc: 60.38%\n",
            "Val -- Loss: 0.997, Acc: 65.34%\n",
            "\n",
            "Epoch: 6/30 -- Epoch Time: 36.25 s\n",
            "---------------------------------\n",
            "Train -- Loss: 1.107, Acc: 61.39%\n",
            "Val -- Loss: 0.982, Acc: 65.94%\n",
            "\n",
            "Epoch: 7/30 -- Epoch Time: 35.46 s\n",
            "---------------------------------\n",
            "Train -- Loss: 1.087, Acc: 61.80%\n",
            "Val -- Loss: 0.970, Acc: 66.16%\n",
            "\n",
            "Epoch: 8/30 -- Epoch Time: 35.46 s\n",
            "---------------------------------\n",
            "Train -- Loss: 1.076, Acc: 62.42%\n",
            "Val -- Loss: 0.958, Acc: 66.56%\n",
            "\n",
            "Epoch: 9/30 -- Epoch Time: 35.35 s\n",
            "---------------------------------\n",
            "Train -- Loss: 1.060, Acc: 62.97%\n",
            "Val -- Loss: 0.948, Acc: 66.99%\n",
            "\n",
            "Epoch: 10/30 -- Epoch Time: 35.19 s\n",
            "---------------------------------\n",
            "Train -- Loss: 1.054, Acc: 62.99%\n",
            "Val -- Loss: 0.939, Acc: 67.40%\n",
            "\n",
            "Epoch: 11/30 -- Epoch Time: 35.43 s\n",
            "---------------------------------\n",
            "Train -- Loss: 1.041, Acc: 63.77%\n",
            "Val -- Loss: 0.934, Acc: 67.66%\n",
            "\n",
            "Epoch: 12/30 -- Epoch Time: 35.22 s\n",
            "---------------------------------\n",
            "Train -- Loss: 1.034, Acc: 63.51%\n",
            "Val -- Loss: 0.924, Acc: 67.74%\n",
            "\n",
            "Epoch: 13/30 -- Epoch Time: 35.64 s\n",
            "---------------------------------\n",
            "Train -- Loss: 1.021, Acc: 64.01%\n",
            "Val -- Loss: 0.916, Acc: 67.97%\n",
            "\n",
            "Epoch: 14/30 -- Epoch Time: 35.83 s\n",
            "---------------------------------\n",
            "Train -- Loss: 1.016, Acc: 64.29%\n",
            "Val -- Loss: 0.913, Acc: 68.10%\n",
            "\n",
            "Epoch: 15/30 -- Epoch Time: 35.25 s\n",
            "---------------------------------\n",
            "Train -- Loss: 1.013, Acc: 64.54%\n",
            "Val -- Loss: 0.904, Acc: 68.67%\n",
            "\n",
            "Epoch: 16/30 -- Epoch Time: 35.37 s\n",
            "---------------------------------\n",
            "Train -- Loss: 1.003, Acc: 65.04%\n",
            "Val -- Loss: 0.899, Acc: 68.30%\n",
            "\n",
            "Epoch: 17/30 -- Epoch Time: 35.28 s\n",
            "---------------------------------\n",
            "Train -- Loss: 0.995, Acc: 64.90%\n",
            "Val -- Loss: 0.894, Acc: 68.82%\n",
            "\n",
            "Epoch: 18/30 -- Epoch Time: 35.10 s\n",
            "---------------------------------\n",
            "Train -- Loss: 0.990, Acc: 65.16%\n",
            "Val -- Loss: 0.890, Acc: 68.70%\n",
            "\n",
            "Epoch: 19/30 -- Epoch Time: 35.01 s\n",
            "---------------------------------\n",
            "Train -- Loss: 0.983, Acc: 65.53%\n",
            "Val -- Loss: 0.884, Acc: 69.11%\n",
            "\n",
            "Epoch: 20/30 -- Epoch Time: 35.25 s\n",
            "---------------------------------\n",
            "Train -- Loss: 0.984, Acc: 65.41%\n",
            "Val -- Loss: 0.879, Acc: 69.11%\n",
            "\n",
            "Epoch: 21/30 -- Epoch Time: 35.24 s\n",
            "---------------------------------\n",
            "Train -- Loss: 0.973, Acc: 65.65%\n",
            "Val -- Loss: 0.874, Acc: 69.32%\n",
            "\n",
            "Epoch: 22/30 -- Epoch Time: 35.17 s\n",
            "---------------------------------\n",
            "Train -- Loss: 0.971, Acc: 65.73%\n",
            "Val -- Loss: 0.869, Acc: 69.47%\n",
            "\n",
            "Epoch: 23/30 -- Epoch Time: 35.38 s\n",
            "---------------------------------\n",
            "Train -- Loss: 0.968, Acc: 65.97%\n",
            "Val -- Loss: 0.866, Acc: 69.78%\n",
            "\n",
            "Epoch: 24/30 -- Epoch Time: 34.98 s\n",
            "---------------------------------\n",
            "Train -- Loss: 0.963, Acc: 66.20%\n",
            "Val -- Loss: 0.862, Acc: 69.90%\n",
            "\n",
            "Epoch: 25/30 -- Epoch Time: 35.20 s\n",
            "---------------------------------\n",
            "Train -- Loss: 0.957, Acc: 66.24%\n",
            "Val -- Loss: 0.858, Acc: 70.02%\n",
            "\n",
            "Epoch: 26/30 -- Epoch Time: 34.76 s\n",
            "---------------------------------\n",
            "Train -- Loss: 0.957, Acc: 66.12%\n",
            "Val -- Loss: 0.855, Acc: 70.17%\n",
            "\n",
            "Epoch: 27/30 -- Epoch Time: 35.02 s\n",
            "---------------------------------\n",
            "Train -- Loss: 0.949, Acc: 66.65%\n",
            "Val -- Loss: 0.851, Acc: 70.43%\n",
            "\n",
            "Epoch: 28/30 -- Epoch Time: 35.15 s\n",
            "---------------------------------\n",
            "Train -- Loss: 0.946, Acc: 66.69%\n",
            "Val -- Loss: 0.847, Acc: 70.62%\n",
            "\n",
            "Epoch: 29/30 -- Epoch Time: 35.01 s\n",
            "---------------------------------\n",
            "Train -- Loss: 0.938, Acc: 66.92%\n",
            "Val -- Loss: 0.843, Acc: 70.58%\n",
            "\n",
            "Epoch: 30/30 -- Epoch Time: 35.09 s\n",
            "---------------------------------\n",
            "Train -- Loss: 0.943, Acc: 66.85%\n",
            "Val -- Loss: 0.840, Acc: 70.65%\n"
          ]
        }
      ],
      "source": [
        "N_EPOCHS = 30\n",
        "train_losses_vgg16_feat_extract, train_accs_vgg16_feat_extract, valid_losses_vgg16_feat_extract, valid_accs_vgg16_feat_extract = model_training(N_EPOCHS, \n",
        "                                                                                                                            vgg16_feat_extract,\n",
        "                                                                                                                            train_iterator,\n",
        "                                                                                                                            valid_iterator,\n",
        "                                                                                                                            optimizer,\n",
        "                                                                                                                            criterion,\n",
        "                                                                                                                            device,\n",
        "                                                                                                                            'vgg16_feat_extract.pt') "
      ]
    },
    {
      "cell_type": "code",
      "execution_count": 75,
      "metadata": {
        "colab": {
          "base_uri": "https://localhost:8080/",
          "height": 371
        },
        "id": "jT_EVA69cahx",
        "outputId": "63f43dc3-207e-445c-f1da-22da2a922639"
      },
      "outputs": [
        {
          "output_type": "display_data",
          "data": {
            "text/plain": [
              "<Figure size 1440x432 with 2 Axes>"
            ],
            "image/png": "[encoded data removed]"
          },
          "metadata": {
            "needs_background": "light"
          }
        }
      ],
      "source": [
        "plot_results(N_EPOCHS, train_losses_vgg16_feat_extract, train_accs_vgg16_feat_extract, valid_losses_vgg16_feat_extract, valid_accs_vgg16_feat_extract)"
      ]
    },
    {
      "cell_type": "code",
      "execution_count": 76,
      "metadata": {
        "colab": {
          "base_uri": "https://localhost:8080/"
        },
        "id": "WRlIguO_ccpr",
        "outputId": "069d77e5-4db1-47f3-9306-1290059e11c3"
      },
      "outputs": [
        {
          "output_type": "stream",
          "name": "stdout",
          "text": [
            "Test -- Loss: 0.940, Acc: 67.16 %\n"
          ]
        }
      ],
      "source": [
        "model_testing(vgg16_feat_extract, test_iterator, criterion, device, 'vgg16_feat_extract.pt')"
      ]
    },
    {
      "cell_type": "code",
      "execution_count": 77,
      "metadata": {
        "colab": {
          "base_uri": "https://localhost:8080/"
        },
        "id": "Sz6nACV7ceQe",
        "outputId": "62e60f33-b87d-4edc-8c39-30a6517d4bda"
      },
      "outputs": [
        {
          "output_type": "stream",
          "name": "stdout",
          "text": [
            "[[695  28  45  22  17   2  13  27  94  57]\n",
            " [ 18 761   4  18   1   8   6   5  36 143]\n",
            " [ 73  10 551  47 109  49 108  36  13   4]\n",
            " [ 19  26  53 501  39 190  93  40  11  28]\n",
            " [ 30   4  91  33 579  36  95 117  11   4]\n",
            " [  8  15  48 130  34 662  34  52   7  10]\n",
            " [ 15   5  49  61  55  43 747  17   7   1]\n",
            " [ 27  11  37  35  67  74  10 694  10  35]\n",
            " [ 79  49  13  16   8   2   4   9 754  66]\n",
            " [ 27 113   5  15   2   8   3   9  41 777]]\n",
            "\n",
            "\n",
            "              precision    recall  f1-score   support\n",
            "\n",
            "           0       0.70      0.69      0.70      1000\n",
            "           1       0.74      0.76      0.75      1000\n",
            "           2       0.61      0.55      0.58      1000\n",
            "           3       0.57      0.50      0.53      1000\n",
            "           4       0.64      0.58      0.61      1000\n",
            "           5       0.62      0.66      0.64      1000\n",
            "           6       0.67      0.75      0.71      1000\n",
            "           7       0.69      0.69      0.69      1000\n",
            "           8       0.77      0.75      0.76      1000\n",
            "           9       0.69      0.78      0.73      1000\n",
            "\n",
            "    accuracy                           0.67     10000\n",
            "   macro avg       0.67      0.67      0.67     10000\n",
            "weighted avg       0.67      0.67      0.67     10000\n",
            "\n"
          ]
        }
      ],
      "source": [
        "print_report(vgg16_feat_extract, test_iterator, device)"
      ]
    },
    {
      "cell_type": "code",
      "execution_count": 78,
      "metadata": {
        "colab": {
          "base_uri": "https://localhost:8080/",
          "height": 369
        },
        "id": "A02oQS8_dMaY",
        "outputId": "91ea16b6-a75b-49cb-f1e0-7e469bf089d5"
      },
      "outputs": [
        {
          "output_type": "display_data",
          "data": {
            "text/plain": [
              "<Figure size 1440x432 with 2 Axes>"
            ],
            "image/png": "[encoded data removed]"
          },
          "metadata": {
            "needs_background": "light"
          }
        }
      ],
      "source": [
        "# Plot all results\n",
        "plt.figure(figsize=(20, 6))\n",
        "_ = plt.subplot(1,2,1)\n",
        "plt.plot(np.arange(N_EPOCHS)+1, train_losses_vgg16_scratch, linewidth=3)\n",
        "plt.plot(np.arange(N_EPOCHS)+1, train_losses_vgg16_fine_tuning, linewidth=3)\n",
        "plt.plot(np.arange(N_EPOCHS)+1, train_losses_vgg16_feat_extract, linewidth=3)\n",
        "plt.plot(np.arange(N_EPOCHS)+1, valid_losses_vgg16_scratch, '--', linewidth=3)\n",
        "plt.plot(np.arange(N_EPOCHS)+1, valid_losses_vgg16_fine_tuning, '--', linewidth=3)\n",
        "plt.plot(np.arange(N_EPOCHS)+1, valid_losses_vgg16_feat_extract, '--', linewidth=3)\n",
        "_ = plt.legend(['Train (scratch)', 'Train (fine)', 'Train (feat)', 'Valid (scratch)', 'Valid (fine)', 'Valid (feat)'])\n",
        "plt.grid('on'), plt.xlabel('Epoch'), plt.ylabel('Loss')\n",
        "\n",
        "_ = plt.subplot(1,2,2)\n",
        "plt.plot(np.arange(N_EPOCHS)+1, train_accs_vgg16_scratch, linewidth=3)\n",
        "plt.plot(np.arange(N_EPOCHS)+1, train_accs_vgg16_fine_tuning, linewidth=3)\n",
        "plt.plot(np.arange(N_EPOCHS)+1, train_accs_vgg16_feat_extract, linewidth=3)\n",
        "plt.plot(np.arange(N_EPOCHS)+1, valid_accs_vgg16_scratch, '--', linewidth=3)\n",
        "plt.plot(np.arange(N_EPOCHS)+1, valid_accs_vgg16_fine_tuning, '--', linewidth=3)\n",
        "plt.plot(np.arange(N_EPOCHS)+1, valid_accs_vgg16_feat_extract, '--', linewidth=3)\n",
        "_ = plt.legend(['Train (scratch)', 'Train (fine)', 'Train (feat)', 'Valid (scratch)', 'Valid (fine)', 'Valid (feat)'])\n",
        "plt.grid('on'), plt.xlabel('Epoch'), plt.ylabel('Accuracy')\n",
        "plt.show()"
      ]
    },
    {
      "cell_type": "markdown",
      "metadata": {
        "id": "p9RmUkhLedEx"
      },
      "source": [
        "# **CNN Contest**\n",
        "\n",
        "Previous networks do not perform well on CIFAR-10 dataset. Design your own architecture (based on MLPs) and set the corresponding hyper-parameters in order to achieve better performance on the test set. Some parameters to focus on are listed below:\n",
        "\n",
        "#### *Network's parameters*:\n",
        "\n",
        "- Number of layers;\n",
        "- Number of neurons per layer;\n",
        "- Activation functions;\n",
        "- Weights initialization;\n",
        "- Dropout Rate.\n",
        "\n",
        "#### *Training parameters*:\n",
        "- Learning rate;\n",
        "- Number of epochs;\n",
        "- Optimizer;\n",
        "- Batch size.\n",
        "\n",
        "#### *Data*:\n",
        "- Data augmentation.\n",
        "\n",
        "You can also use different training techniques (e.g., early stopping, LR schedule) or consider ensemble methods.\n",
        "\n",
        "#### *Pre-trained networks*:\n",
        "- Use different pre-trained networks."
      ]
    },
    {
      "cell_type": "markdown",
      "metadata": {
        "id": "JkvAtFRDXFor"
      },
      "source": []
    }
  ],
  "metadata": {
    "accelerator": "GPU",
    "colab": {
      "provenance": []
    },
    "kernelspec": {
      "display_name": "base",
      "language": "python",
      "name": "python3"
    },
    "language_info": {
      "codemirror_mode": {
        "name": "ipython",
        "version": 3
      },
      "file_extension": ".py",
      "mimetype": "text/x-python",
      "name": "python",
      "nbconvert_exporter": "python",
      "pygments_lexer": "ipython3",
      "version": "3.9.7 (default, Sep 16 2021, 16:59:28) [MSC v.1916 64 bit (AMD64)]"
    },
    "vscode": {
      "interpreter": {
        "hash": "dabd4eacb9e3ddd54eefcebcf933935be170cfdef29c95630fe9376e024beb9c"
      }
    },
    "widgets": {
      "application/vnd.jupyter.widget-state+json": {
        "6f475e2f8f504844b8c95008038f3dbe": {
          "model_module": "@jupyter-widgets/controls",
          "model_name": "HBoxModel",
          "model_module_version": "1.5.0",
          "state": {
            "_dom_classes": [],
            "_model_module": "@jupyter-widgets/controls",
            "_model_module_version": "1.5.0",
            "_model_name": "HBoxModel",
            "_view_count": null,
            "_view_module": "@jupyter-widgets/controls",
            "_view_module_version": "1.5.0",
            "_view_name": "HBoxView",
            "box_style": "",
            "children": [
              "IPY_MODEL_6d9b77a94a984a42ba6c0c1777c08ce7",
              "IPY_MODEL_04dd8d321e9840edba4dfff0c708eccc",
              "IPY_MODEL_6a43685371c9429abe51db23d65aff20"
            ],
            "layout": "IPY_MODEL_8950fe4b5d874c14be858fc1a84c12e7"
          }
        },
        "6d9b77a94a984a42ba6c0c1777c08ce7": {
          "model_module": "@jupyter-widgets/controls",
          "model_name": "HTMLModel",
          "model_module_version": "1.5.0",
          "state": {
            "_dom_classes": [],
            "_model_module": "@jupyter-widgets/controls",
            "_model_module_version": "1.5.0",
            "_model_name": "HTMLModel",
            "_view_count": null,
            "_view_module": "@jupyter-widgets/controls",
            "_view_module_version": "1.5.0",
            "_view_name": "HTMLView",
            "description": "",
            "description_tooltip": null,
            "layout": "IPY_MODEL_19ad3fd7d8c143df929bd651bb31f7c5",
            "placeholder": "​",
            "style": "IPY_MODEL_f5eeefe80af349019464799a532cc874",
            "value": "100%"
          }
        },
        "04dd8d321e9840edba4dfff0c708eccc": {
          "model_module": "@jupyter-widgets/controls",
          "model_name": "FloatProgressModel",
          "model_module_version": "1.5.0",
          "state": {
            "_dom_classes": [],
            "_model_module": "@jupyter-widgets/controls",
            "_model_module_version": "1.5.0",
            "_model_name": "FloatProgressModel",
            "_view_count": null,
            "_view_module": "@jupyter-widgets/controls",
            "_view_module_version": "1.5.0",
            "_view_name": "ProgressView",
            "bar_style": "success",
            "description": "",
            "description_tooltip": null,
            "layout": "IPY_MODEL_8150965d54eb49e3be35de1cce201aac",
            "max": 9912422,
            "min": 0,
            "orientation": "horizontal",
            "style": "IPY_MODEL_c5a984dbedcf43aca4630c88261c4e93",
            "value": 9912422
          }
        },
        "6a43685371c9429abe51db23d65aff20": {
          "model_module": "@jupyter-widgets/controls",
          "model_name": "HTMLModel",
          "model_module_version": "1.5.0",
          "state": {
            "_dom_classes": [],
            "_model_module": "@jupyter-widgets/controls",
            "_model_module_version": "1.5.0",
            "_model_name": "HTMLModel",
            "_view_count": null,
            "_view_module": "@jupyter-widgets/controls",
            "_view_module_version": "1.5.0",
            "_view_name": "HTMLView",
            "description": "",
            "description_tooltip": null,
            "layout": "IPY_MODEL_c6c47199e55f4a89a1cb6dd58ef46f3d",
            "placeholder": "​",
            "style": "IPY_MODEL_58f805a7031c47928835f2de92fdfdda",
            "value": " 9912422/9912422 [00:00&lt;00:00, 50729286.21it/s]"
          }
        },
        "8950fe4b5d874c14be858fc1a84c12e7": {
          "model_module": "@jupyter-widgets/base",
          "model_name": "LayoutModel",
          "model_module_version": "1.2.0",
          "state": {
            "_model_module": "@jupyter-widgets/base",
            "_model_module_version": "1.2.0",
            "_model_name": "LayoutModel",
            "_view_count": null,
            "_view_module": "@jupyter-widgets/base",
            "_view_module_version": "1.2.0",
            "_view_name": "LayoutView",
            "align_content": null,
            "align_items": null,
            "align_self": null,
            "border": null,
            "bottom": null,
            "display": null,
            "flex": null,
            "flex_flow": null,
            "grid_area": null,
            "grid_auto_columns": null,
            "grid_auto_flow": null,
            "grid_auto_rows": null,
            "grid_column": null,
            "grid_gap": null,
            "grid_row": null,
            "grid_template_areas": null,
            "grid_template_columns": null,
            "grid_template_rows": null,
            "height": null,
            "justify_content": null,
            "justify_items": null,
            "left": null,
            "margin": null,
            "max_height": null,
            "max_width": null,
            "min_height": null,
            "min_width": null,
            "object_fit": null,
            "object_position": null,
            "order": null,
            "overflow": null,
            "overflow_x": null,
            "overflow_y": null,
            "padding": null,
            "right": null,
            "top": null,
            "visibility": null,
            "width": null
          }
        },
        "19ad3fd7d8c143df929bd651bb31f7c5": {
          "model_module": "@jupyter-widgets/base",
          "model_name": "LayoutModel",
          "model_module_version": "1.2.0",
          "state": {
            "_model_module": "@jupyter-widgets/base",
            "_model_module_version": "1.2.0",
            "_model_name": "LayoutModel",
            "_view_count": null,
            "_view_module": "@jupyter-widgets/base",
            "_view_module_version": "1.2.0",
            "_view_name": "LayoutView",
            "align_content": null,
            "align_items": null,
            "align_self": null,
            "border": null,
            "bottom": null,
            "display": null,
            "flex": null,
            "flex_flow": null,
            "grid_area": null,
            "grid_auto_columns": null,
            "grid_auto_flow": null,
            "grid_auto_rows": null,
            "grid_column": null,
            "grid_gap": null,
            "grid_row": null,
            "grid_template_areas": null,
            "grid_template_columns": null,
            "grid_template_rows": null,
            "height": null,
            "justify_content": null,
            "justify_items": null,
            "left": null,
            "margin": null,
            "max_height": null,
            "max_width": null,
            "min_height": null,
            "min_width": null,
            "object_fit": null,
            "object_position": null,
            "order": null,
            "overflow": null,
            "overflow_x": null,
            "overflow_y": null,
            "padding": null,
            "right": null,
            "top": null,
            "visibility": null,
            "width": null
          }
        },
        "f5eeefe80af349019464799a532cc874": {
          "model_module": "@jupyter-widgets/controls",
          "model_name": "DescriptionStyleModel",
          "model_module_version": "1.5.0",
          "state": {
            "_model_module": "@jupyter-widgets/controls",
            "_model_module_version": "1.5.0",
            "_model_name": "DescriptionStyleModel",
            "_view_count": null,
            "_view_module": "@jupyter-widgets/base",
            "_view_module_version": "1.2.0",
            "_view_name": "StyleView",
            "description_width": ""
          }
        },
        "8150965d54eb49e3be35de1cce201aac": {
          "model_module": "@jupyter-widgets/base",
          "model_name": "LayoutModel",
          "model_module_version": "1.2.0",
          "state": {
            "_model_module": "@jupyter-widgets/base",
            "_model_module_version": "1.2.0",
            "_model_name": "LayoutModel",
            "_view_count": null,
            "_view_module": "@jupyter-widgets/base",
            "_view_module_version": "1.2.0",
            "_view_name": "LayoutView",
            "align_content": null,
            "align_items": null,
            "align_self": null,
            "border": null,
            "bottom": null,
            "display": null,
            "flex": null,
            "flex_flow": null,
            "grid_area": null,
            "grid_auto_columns": null,
            "grid_auto_flow": null,
            "grid_auto_rows": null,
            "grid_column": null,
            "grid_gap": null,
            "grid_row": null,
            "grid_template_areas": null,
            "grid_template_columns": null,
            "grid_template_rows": null,
            "height": null,
            "justify_content": null,
            "justify_items": null,
            "left": null,
            "margin": null,
            "max_height": null,
            "max_width": null,
            "min_height": null,
            "min_width": null,
            "object_fit": null,
            "object_position": null,
            "order": null,
            "overflow": null,
            "overflow_x": null,
            "overflow_y": null,
            "padding": null,
            "right": null,
            "top": null,
            "visibility": null,
            "width": null
          }
        },
        "c5a984dbedcf43aca4630c88261c4e93": {
          "model_module": "@jupyter-widgets/controls",
          "model_name": "ProgressStyleModel",
          "model_module_version": "1.5.0",
          "state": {
            "_model_module": "@jupyter-widgets/controls",
            "_model_module_version": "1.5.0",
            "_model_name": "ProgressStyleModel",
            "_view_count": null,
            "_view_module": "@jupyter-widgets/base",
            "_view_module_version": "1.2.0",
            "_view_name": "StyleView",
            "bar_color": null,
            "description_width": ""
          }
        },
        "c6c47199e55f4a89a1cb6dd58ef46f3d": {
          "model_module": "@jupyter-widgets/base",
          "model_name": "LayoutModel",
          "model_module_version": "1.2.0",
          "state": {
            "_model_module": "@jupyter-widgets/base",
            "_model_module_version": "1.2.0",
            "_model_name": "LayoutModel",
            "_view_count": null,
            "_view_module": "@jupyter-widgets/base",
            "_view_module_version": "1.2.0",
            "_view_name": "LayoutView",
            "align_content": null,
            "align_items": null,
            "align_self": null,
            "border": null,
            "bottom": null,
            "display": null,
            "flex": null,
            "flex_flow": null,
            "grid_area": null,
            "grid_auto_columns": null,
            "grid_auto_flow": null,
            "grid_auto_rows": null,
            "grid_column": null,
            "grid_gap": null,
            "grid_row": null,
            "grid_template_areas": null,
            "grid_template_columns": null,
            "grid_template_rows": null,
            "height": null,
            "justify_content": null,
            "justify_items": null,
            "left": null,
            "margin": null,
            "max_height": null,
            "max_width": null,
            "min_height": null,
            "min_width": null,
            "object_fit": null,
            "object_position": null,
            "order": null,
            "overflow": null,
            "overflow_x": null,
            "overflow_y": null,
            "padding": null,
            "right": null,
            "top": null,
            "visibility": null,
            "width": null
          }
        },
        "58f805a7031c47928835f2de92fdfdda": {
          "model_module": "@jupyter-widgets/controls",
          "model_name": "DescriptionStyleModel",
          "model_module_version": "1.5.0",
          "state": {
            "_model_module": "@jupyter-widgets/controls",
            "_model_module_version": "1.5.0",
            "_model_name": "DescriptionStyleModel",
            "_view_count": null,
            "_view_module": "@jupyter-widgets/base",
            "_view_module_version": "1.2.0",
            "_view_name": "StyleView",
            "description_width": ""
          }
        },
        "dfc486ee17c8492ca38c5fda2763c5bc": {
          "model_module": "@jupyter-widgets/controls",
          "model_name": "HBoxModel",
          "model_module_version": "1.5.0",
          "state": {
            "_dom_classes": [],
            "_model_module": "@jupyter-widgets/controls",
            "_model_module_version": "1.5.0",
            "_model_name": "HBoxModel",
            "_view_count": null,
            "_view_module": "@jupyter-widgets/controls",
            "_view_module_version": "1.5.0",
            "_view_name": "HBoxView",
            "box_style": "",
            "children": [
              "IPY_MODEL_e99ee33c393e411b999c012a308131fb",
              "IPY_MODEL_d182148d4ec243a4ae43cfceabfbb85a",
              "IPY_MODEL_b7e43b5e2b5c4adba19a59fb35fc0cca"
            ],
            "layout": "IPY_MODEL_4e50dee04c9a423f9c14aaa62dada7ba"
          }
        },
        "e99ee33c393e411b999c012a308131fb": {
          "model_module": "@jupyter-widgets/controls",
          "model_name": "HTMLModel",
          "model_module_version": "1.5.0",
          "state": {
            "_dom_classes": [],
            "_model_module": "@jupyter-widgets/controls",
            "_model_module_version": "1.5.0",
            "_model_name": "HTMLModel",
            "_view_count": null,
            "_view_module": "@jupyter-widgets/controls",
            "_view_module_version": "1.5.0",
            "_view_name": "HTMLView",
            "description": "",
            "description_tooltip": null,
            "layout": "IPY_MODEL_7f66a84092bc453b93311f1a25dc8e24",
            "placeholder": "​",
            "style": "IPY_MODEL_365796ec12784ff28e79e652a8e88b28",
            "value": "100%"
          }
        },
        "d182148d4ec243a4ae43cfceabfbb85a": {
          "model_module": "@jupyter-widgets/controls",
          "model_name": "FloatProgressModel",
          "model_module_version": "1.5.0",
          "state": {
            "_dom_classes": [],
            "_model_module": "@jupyter-widgets/controls",
            "_model_module_version": "1.5.0",
            "_model_name": "FloatProgressModel",
            "_view_count": null,
            "_view_module": "@jupyter-widgets/controls",
            "_view_module_version": "1.5.0",
            "_view_name": "ProgressView",
            "bar_style": "success",
            "description": "",
            "description_tooltip": null,
            "layout": "IPY_MODEL_2a58d155250f4ce1848d00effb5cdcd7",
            "max": 28881,
            "min": 0,
            "orientation": "horizontal",
            "style": "IPY_MODEL_dc031831b6a74c65bad3bd3801b58ad4",
            "value": 28881
          }
        },
        "b7e43b5e2b5c4adba19a59fb35fc0cca": {
          "model_module": "@jupyter-widgets/controls",
          "model_name": "HTMLModel",
          "model_module_version": "1.5.0",
          "state": {
            "_dom_classes": [],
            "_model_module": "@jupyter-widgets/controls",
            "_model_module_version": "1.5.0",
            "_model_name": "HTMLModel",
            "_view_count": null,
            "_view_module": "@jupyter-widgets/controls",
            "_view_module_version": "1.5.0",
            "_view_name": "HTMLView",
            "description": "",
            "description_tooltip": null,
            "layout": "IPY_MODEL_61fe06b466644b47b09edecbf8cdc90d",
            "placeholder": "​",
            "style": "IPY_MODEL_710cac5a336e41d4ac77a5448bb3cbd1",
            "value": " 28881/28881 [00:00&lt;00:00, 901468.22it/s]"
          }
        },
        "4e50dee04c9a423f9c14aaa62dada7ba": {
          "model_module": "@jupyter-widgets/base",
          "model_name": "LayoutModel",
          "model_module_version": "1.2.0",
          "state": {
            "_model_module": "@jupyter-widgets/base",
            "_model_module_version": "1.2.0",
            "_model_name": "LayoutModel",
            "_view_count": null,
            "_view_module": "@jupyter-widgets/base",
            "_view_module_version": "1.2.0",
            "_view_name": "LayoutView",
            "align_content": null,
            "align_items": null,
            "align_self": null,
            "border": null,
            "bottom": null,
            "display": null,
            "flex": null,
            "flex_flow": null,
            "grid_area": null,
            "grid_auto_columns": null,
            "grid_auto_flow": null,
            "grid_auto_rows": null,
            "grid_column": null,
            "grid_gap": null,
            "grid_row": null,
            "grid_template_areas": null,
            "grid_template_columns": null,
            "grid_template_rows": null,
            "height": null,
            "justify_content": null,
            "justify_items": null,
            "left": null,
            "margin": null,
            "max_height": null,
            "max_width": null,
            "min_height": null,
            "min_width": null,
            "object_fit": null,
            "object_position": null,
            "order": null,
            "overflow": null,
            "overflow_x": null,
            "overflow_y": null,
            "padding": null,
            "right": null,
            "top": null,
            "visibility": null,
            "width": null
          }
        },
        "7f66a84092bc453b93311f1a25dc8e24": {
          "model_module": "@jupyter-widgets/base",
          "model_name": "LayoutModel",
          "model_module_version": "1.2.0",
          "state": {
            "_model_module": "@jupyter-widgets/base",
            "_model_module_version": "1.2.0",
            "_model_name": "LayoutModel",
            "_view_count": null,
            "_view_module": "@jupyter-widgets/base",
            "_view_module_version": "1.2.0",
            "_view_name": "LayoutView",
            "align_content": null,
            "align_items": null,
            "align_self": null,
            "border": null,
            "bottom": null,
            "display": null,
            "flex": null,
            "flex_flow": null,
            "grid_area": null,
            "grid_auto_columns": null,
            "grid_auto_flow": null,
            "grid_auto_rows": null,
            "grid_column": null,
            "grid_gap": null,
            "grid_row": null,
            "grid_template_areas": null,
            "grid_template_columns": null,
            "grid_template_rows": null,
            "height": null,
            "justify_content": null,
            "justify_items": null,
            "left": null,
            "margin": null,
            "max_height": null,
            "max_width": null,
            "min_height": null,
            "min_width": null,
            "object_fit": null,
            "object_position": null,
            "order": null,
            "overflow": null,
            "overflow_x": null,
            "overflow_y": null,
            "padding": null,
            "right": null,
            "top": null,
            "visibility": null,
            "width": null
          }
        },
        "365796ec12784ff28e79e652a8e88b28": {
          "model_module": "@jupyter-widgets/controls",
          "model_name": "DescriptionStyleModel",
          "model_module_version": "1.5.0",
          "state": {
            "_model_module": "@jupyter-widgets/controls",
            "_model_module_version": "1.5.0",
            "_model_name": "DescriptionStyleModel",
            "_view_count": null,
            "_view_module": "@jupyter-widgets/base",
            "_view_module_version": "1.2.0",
            "_view_name": "StyleView",
            "description_width": ""
          }
        },
        "2a58d155250f4ce1848d00effb5cdcd7": {
          "model_module": "@jupyter-widgets/base",
          "model_name": "LayoutModel",
          "model_module_version": "1.2.0",
          "state": {
            "_model_module": "@jupyter-widgets/base",
            "_model_module_version": "1.2.0",
            "_model_name": "LayoutModel",
            "_view_count": null,
            "_view_module": "@jupyter-widgets/base",
            "_view_module_version": "1.2.0",
            "_view_name": "LayoutView",
            "align_content": null,
            "align_items": null,
            "align_self": null,
            "border": null,
            "bottom": null,
            "display": null,
            "flex": null,
            "flex_flow": null,
            "grid_area": null,
            "grid_auto_columns": null,
            "grid_auto_flow": null,
            "grid_auto_rows": null,
            "grid_column": null,
            "grid_gap": null,
            "grid_row": null,
            "grid_template_areas": null,
            "grid_template_columns": null,
            "grid_template_rows": null,
            "height": null,
            "justify_content": null,
            "justify_items": null,
            "left": null,
            "margin": null,
            "max_height": null,
            "max_width": null,
            "min_height": null,
            "min_width": null,
            "object_fit": null,
            "object_position": null,
            "order": null,
            "overflow": null,
            "overflow_x": null,
            "overflow_y": null,
            "padding": null,
            "right": null,
            "top": null,
            "visibility": null,
            "width": null
          }
        },
        "dc031831b6a74c65bad3bd3801b58ad4": {
          "model_module": "@jupyter-widgets/controls",
          "model_name": "ProgressStyleModel",
          "model_module_version": "1.5.0",
          "state": {
            "_model_module": "@jupyter-widgets/controls",
            "_model_module_version": "1.5.0",
            "_model_name": "ProgressStyleModel",
            "_view_count": null,
            "_view_module": "@jupyter-widgets/base",
            "_view_module_version": "1.2.0",
            "_view_name": "StyleView",
            "bar_color": null,
            "description_width": ""
          }
        },
        "61fe06b466644b47b09edecbf8cdc90d": {
          "model_module": "@jupyter-widgets/base",
          "model_name": "LayoutModel",
          "model_module_version": "1.2.0",
          "state": {
            "_model_module": "@jupyter-widgets/base",
            "_model_module_version": "1.2.0",
            "_model_name": "LayoutModel",
            "_view_count": null,
            "_view_module": "@jupyter-widgets/base",
            "_view_module_version": "1.2.0",
            "_view_name": "LayoutView",
            "align_content": null,
            "align_items": null,
            "align_self": null,
            "border": null,
            "bottom": null,
            "display": null,
            "flex": null,
            "flex_flow": null,
            "grid_area": null,
            "grid_auto_columns": null,
            "grid_auto_flow": null,
            "grid_auto_rows": null,
            "grid_column": null,
            "grid_gap": null,
            "grid_row": null,
            "grid_template_areas": null,
            "grid_template_columns": null,
            "grid_template_rows": null,
            "height": null,
            "justify_content": null,
            "justify_items": null,
            "left": null,
            "margin": null,
            "max_height": null,
            "max_width": null,
            "min_height": null,
            "min_width": null,
            "object_fit": null,
            "object_position": null,
            "order": null,
            "overflow": null,
            "overflow_x": null,
            "overflow_y": null,
            "padding": null,
            "right": null,
            "top": null,
            "visibility": null,
            "width": null
          }
        },
        "710cac5a336e41d4ac77a5448bb3cbd1": {
          "model_module": "@jupyter-widgets/controls",
          "model_name": "DescriptionStyleModel",
          "model_module_version": "1.5.0",
          "state": {
            "_model_module": "@jupyter-widgets/controls",
            "_model_module_version": "1.5.0",
            "_model_name": "DescriptionStyleModel",
            "_view_count": null,
            "_view_module": "@jupyter-widgets/base",
            "_view_module_version": "1.2.0",
            "_view_name": "StyleView",
            "description_width": ""
          }
        },
        "3881598d37774758ba41a67259792a7e": {
          "model_module": "@jupyter-widgets/controls",
          "model_name": "HBoxModel",
          "model_module_version": "1.5.0",
          "state": {
            "_dom_classes": [],
            "_model_module": "@jupyter-widgets/controls",
            "_model_module_version": "1.5.0",
            "_model_name": "HBoxModel",
            "_view_count": null,
            "_view_module": "@jupyter-widgets/controls",
            "_view_module_version": "1.5.0",
            "_view_name": "HBoxView",
            "box_style": "",
            "children": [
              "IPY_MODEL_ed94b4295e0549b1bea0dc8ddb976731",
              "IPY_MODEL_cae5a83c36e148df87da5387cf3cc421",
              "IPY_MODEL_98b66ccbd2d14673b0932a74033550fe"
            ],
            "layout": "IPY_MODEL_31046686a58946c893592d5783d8c024"
          }
        },
        "ed94b4295e0549b1bea0dc8ddb976731": {
          "model_module": "@jupyter-widgets/controls",
          "model_name": "HTMLModel",
          "model_module_version": "1.5.0",
          "state": {
            "_dom_classes": [],
            "_model_module": "@jupyter-widgets/controls",
            "_model_module_version": "1.5.0",
            "_model_name": "HTMLModel",
            "_view_count": null,
            "_view_module": "@jupyter-widgets/controls",
            "_view_module_version": "1.5.0",
            "_view_name": "HTMLView",
            "description": "",
            "description_tooltip": null,
            "layout": "IPY_MODEL_3f572c5975c9421f9c13eace46a21b06",
            "placeholder": "​",
            "style": "IPY_MODEL_ad259be19a0c4e5eaa24fe87fa867386",
            "value": "100%"
          }
        },
        "cae5a83c36e148df87da5387cf3cc421": {
          "model_module": "@jupyter-widgets/controls",
          "model_name": "FloatProgressModel",
          "model_module_version": "1.5.0",
          "state": {
            "_dom_classes": [],
            "_model_module": "@jupyter-widgets/controls",
            "_model_module_version": "1.5.0",
            "_model_name": "FloatProgressModel",
            "_view_count": null,
            "_view_module": "@jupyter-widgets/controls",
            "_view_module_version": "1.5.0",
            "_view_name": "ProgressView",
            "bar_style": "success",
            "description": "",
            "description_tooltip": null,
            "layout": "IPY_MODEL_7fed19feec7b4b2aa7440f2bd30f892f",
            "max": 1648877,
            "min": 0,
            "orientation": "horizontal",
            "style": "IPY_MODEL_414f10cb697347e3bde1eab75e6f7b72",
            "value": 1648877
          }
        },
        "98b66ccbd2d14673b0932a74033550fe": {
          "model_module": "@jupyter-widgets/controls",
          "model_name": "HTMLModel",
          "model_module_version": "1.5.0",
          "state": {
            "_dom_classes": [],
            "_model_module": "@jupyter-widgets/controls",
            "_model_module_version": "1.5.0",
            "_model_name": "HTMLModel",
            "_view_count": null,
            "_view_module": "@jupyter-widgets/controls",
            "_view_module_version": "1.5.0",
            "_view_name": "HTMLView",
            "description": "",
            "description_tooltip": null,
            "layout": "IPY_MODEL_5cfe9cd99de3494dbf9adbaa9a853fe5",
            "placeholder": "​",
            "style": "IPY_MODEL_5deffbf7d3a4464d8f57501b53733edb",
            "value": " 1648877/1648877 [00:00&lt;00:00, 3830481.51it/s]"
          }
        },
        "31046686a58946c893592d5783d8c024": {
          "model_module": "@jupyter-widgets/base",
          "model_name": "LayoutModel",
          "model_module_version": "1.2.0",
          "state": {
            "_model_module": "@jupyter-widgets/base",
            "_model_module_version": "1.2.0",
            "_model_name": "LayoutModel",
            "_view_count": null,
            "_view_module": "@jupyter-widgets/base",
            "_view_module_version": "1.2.0",
            "_view_name": "LayoutView",
            "align_content": null,
            "align_items": null,
            "align_self": null,
            "border": null,
            "bottom": null,
            "display": null,
            "flex": null,
            "flex_flow": null,
            "grid_area": null,
            "grid_auto_columns": null,
            "grid_auto_flow": null,
            "grid_auto_rows": null,
            "grid_column": null,
            "grid_gap": null,
            "grid_row": null,
            "grid_template_areas": null,
            "grid_template_columns": null,
            "grid_template_rows": null,
            "height": null,
            "justify_content": null,
            "justify_items": null,
            "left": null,
            "margin": null,
            "max_height": null,
            "max_width": null,
            "min_height": null,
            "min_width": null,
            "object_fit": null,
            "object_position": null,
            "order": null,
            "overflow": null,
            "overflow_x": null,
            "overflow_y": null,
            "padding": null,
            "right": null,
            "top": null,
            "visibility": null,
            "width": null
          }
        },
        "3f572c5975c9421f9c13eace46a21b06": {
          "model_module": "@jupyter-widgets/base",
          "model_name": "LayoutModel",
          "model_module_version": "1.2.0",
          "state": {
            "_model_module": "@jupyter-widgets/base",
            "_model_module_version": "1.2.0",
            "_model_name": "LayoutModel",
            "_view_count": null,
            "_view_module": "@jupyter-widgets/base",
            "_view_module_version": "1.2.0",
            "_view_name": "LayoutView",
            "align_content": null,
            "align_items": null,
            "align_self": null,
            "border": null,
            "bottom": null,
            "display": null,
            "flex": null,
            "flex_flow": null,
            "grid_area": null,
            "grid_auto_columns": null,
            "grid_auto_flow": null,
            "grid_auto_rows": null,
            "grid_column": null,
            "grid_gap": null,
            "grid_row": null,
            "grid_template_areas": null,
            "grid_template_columns": null,
            "grid_template_rows": null,
            "height": null,
            "justify_content": null,
            "justify_items": null,
            "left": null,
            "margin": null,
            "max_height": null,
            "max_width": null,
            "min_height": null,
            "min_width": null,
            "object_fit": null,
            "object_position": null,
            "order": null,
            "overflow": null,
            "overflow_x": null,
            "overflow_y": null,
            "padding": null,
            "right": null,
            "top": null,
            "visibility": null,
            "width": null
          }
        },
        "ad259be19a0c4e5eaa24fe87fa867386": {
          "model_module": "@jupyter-widgets/controls",
          "model_name": "DescriptionStyleModel",
          "model_module_version": "1.5.0",
          "state": {
            "_model_module": "@jupyter-widgets/controls",
            "_model_module_version": "1.5.0",
            "_model_name": "DescriptionStyleModel",
            "_view_count": null,
            "_view_module": "@jupyter-widgets/base",
            "_view_module_version": "1.2.0",
            "_view_name": "StyleView",
            "description_width": ""
          }
        },
        "7fed19feec7b4b2aa7440f2bd30f892f": {
          "model_module": "@jupyter-widgets/base",
          "model_name": "LayoutModel",
          "model_module_version": "1.2.0",
          "state": {
            "_model_module": "@jupyter-widgets/base",
            "_model_module_version": "1.2.0",
            "_model_name": "LayoutModel",
            "_view_count": null,
            "_view_module": "@jupyter-widgets/base",
            "_view_module_version": "1.2.0",
            "_view_name": "LayoutView",
            "align_content": null,
            "align_items": null,
            "align_self": null,
            "border": null,
            "bottom": null,
            "display": null,
            "flex": null,
            "flex_flow": null,
            "grid_area": null,
            "grid_auto_columns": null,
            "grid_auto_flow": null,
            "grid_auto_rows": null,
            "grid_column": null,
            "grid_gap": null,
            "grid_row": null,
            "grid_template_areas": null,
            "grid_template_columns": null,
            "grid_template_rows": null,
            "height": null,
            "justify_content": null,
            "justify_items": null,
            "left": null,
            "margin": null,
            "max_height": null,
            "max_width": null,
            "min_height": null,
            "min_width": null,
            "object_fit": null,
            "object_position": null,
            "order": null,
            "overflow": null,
            "overflow_x": null,
            "overflow_y": null,
            "padding": null,
            "right": null,
            "top": null,
            "visibility": null,
            "width": null
          }
        },
        "414f10cb697347e3bde1eab75e6f7b72": {
          "model_module": "@jupyter-widgets/controls",
          "model_name": "ProgressStyleModel",
          "model_module_version": "1.5.0",
          "state": {
            "_model_module": "@jupyter-widgets/controls",
            "_model_module_version": "1.5.0",
            "_model_name": "ProgressStyleModel",
            "_view_count": null,
            "_view_module": "@jupyter-widgets/base",
            "_view_module_version": "1.2.0",
            "_view_name": "StyleView",
            "bar_color": null,
            "description_width": ""
          }
        },
        "5cfe9cd99de3494dbf9adbaa9a853fe5": {
          "model_module": "@jupyter-widgets/base",
          "model_name": "LayoutModel",
          "model_module_version": "1.2.0",
          "state": {
            "_model_module": "@jupyter-widgets/base",
            "_model_module_version": "1.2.0",
            "_model_name": "LayoutModel",
            "_view_count": null,
            "_view_module": "@jupyter-widgets/base",
            "_view_module_version": "1.2.0",
            "_view_name": "LayoutView",
            "align_content": null,
            "align_items": null,
            "align_self": null,
            "border": null,
            "bottom": null,
            "display": null,
            "flex": null,
            "flex_flow": null,
            "grid_area": null,
            "grid_auto_columns": null,
            "grid_auto_flow": null,
            "grid_auto_rows": null,
            "grid_column": null,
            "grid_gap": null,
            "grid_row": null,
            "grid_template_areas": null,
            "grid_template_columns": null,
            "grid_template_rows": null,
            "height": null,
            "justify_content": null,
            "justify_items": null,
            "left": null,
            "margin": null,
            "max_height": null,
            "max_width": null,
            "min_height": null,
            "min_width": null,
            "object_fit": null,
            "object_position": null,
            "order": null,
            "overflow": null,
            "overflow_x": null,
            "overflow_y": null,
            "padding": null,
            "right": null,
            "top": null,
            "visibility": null,
            "width": null
          }
        },
        "5deffbf7d3a4464d8f57501b53733edb": {
          "model_module": "@jupyter-widgets/controls",
          "model_name": "DescriptionStyleModel",
          "model_module_version": "1.5.0",
          "state": {
            "_model_module": "@jupyter-widgets/controls",
            "_model_module_version": "1.5.0",
            "_model_name": "DescriptionStyleModel",
            "_view_count": null,
            "_view_module": "@jupyter-widgets/base",
            "_view_module_version": "1.2.0",
            "_view_name": "StyleView",
            "description_width": ""
          }
        },
        "5b765f17278f4503ab8aaf55abd527f6": {
          "model_module": "@jupyter-widgets/controls",
          "model_name": "HBoxModel",
          "model_module_version": "1.5.0",
          "state": {
            "_dom_classes": [],
            "_model_module": "@jupyter-widgets/controls",
            "_model_module_version": "1.5.0",
            "_model_name": "HBoxModel",
            "_view_count": null,
            "_view_module": "@jupyter-widgets/controls",
            "_view_module_version": "1.5.0",
            "_view_name": "HBoxView",
            "box_style": "",
            "children": [
              "IPY_MODEL_871b404ede854bdd9a448d3b9d50987b",
              "IPY_MODEL_c3d59b00326f4873b28b7f454dcb4e25",
              "IPY_MODEL_ded08768009e4213b3573106ce74fe28"
            ],
            "layout": "IPY_MODEL_0de721ce051e44a1bafaa3c48f88db5a"
          }
        },
        "871b404ede854bdd9a448d3b9d50987b": {
          "model_module": "@jupyter-widgets/controls",
          "model_name": "HTMLModel",
          "model_module_version": "1.5.0",
          "state": {
            "_dom_classes": [],
            "_model_module": "@jupyter-widgets/controls",
            "_model_module_version": "1.5.0",
            "_model_name": "HTMLModel",
            "_view_count": null,
            "_view_module": "@jupyter-widgets/controls",
            "_view_module_version": "1.5.0",
            "_view_name": "HTMLView",
            "description": "",
            "description_tooltip": null,
            "layout": "IPY_MODEL_11e6cf79dfee4638a1cbf31b762190e7",
            "placeholder": "​",
            "style": "IPY_MODEL_6f878c8b95ca4f69ab669f639a63a457",
            "value": "100%"
          }
        },
        "c3d59b00326f4873b28b7f454dcb4e25": {
          "model_module": "@jupyter-widgets/controls",
          "model_name": "FloatProgressModel",
          "model_module_version": "1.5.0",
          "state": {
            "_dom_classes": [],
            "_model_module": "@jupyter-widgets/controls",
            "_model_module_version": "1.5.0",
            "_model_name": "FloatProgressModel",
            "_view_count": null,
            "_view_module": "@jupyter-widgets/controls",
            "_view_module_version": "1.5.0",
            "_view_name": "ProgressView",
            "bar_style": "success",
            "description": "",
            "description_tooltip": null,
            "layout": "IPY_MODEL_6a33c37cb0b343b0962a0bf029f66445",
            "max": 4542,
            "min": 0,
            "orientation": "horizontal",
            "style": "IPY_MODEL_a04a2222d2bb480f97a6929bea6c3f52",
            "value": 4542
          }
        },
        "ded08768009e4213b3573106ce74fe28": {
          "model_module": "@jupyter-widgets/controls",
          "model_name": "HTMLModel",
          "model_module_version": "1.5.0",
          "state": {
            "_dom_classes": [],
            "_model_module": "@jupyter-widgets/controls",
            "_model_module_version": "1.5.0",
            "_model_name": "HTMLModel",
            "_view_count": null,
            "_view_module": "@jupyter-widgets/controls",
            "_view_module_version": "1.5.0",
            "_view_name": "HTMLView",
            "description": "",
            "description_tooltip": null,
            "layout": "IPY_MODEL_c3518bc5257f4d1ab44468ae7c0f809d",
            "placeholder": "​",
            "style": "IPY_MODEL_55cc78f547104681989dc691bf975207",
            "value": " 4542/4542 [00:00&lt;00:00, 80523.66it/s]"
          }
        },
        "0de721ce051e44a1bafaa3c48f88db5a": {
          "model_module": "@jupyter-widgets/base",
          "model_name": "LayoutModel",
          "model_module_version": "1.2.0",
          "state": {
            "_model_module": "@jupyter-widgets/base",
            "_model_module_version": "1.2.0",
            "_model_name": "LayoutModel",
            "_view_count": null,
            "_view_module": "@jupyter-widgets/base",
            "_view_module_version": "1.2.0",
            "_view_name": "LayoutView",
            "align_content": null,
            "align_items": null,
            "align_self": null,
            "border": null,
            "bottom": null,
            "display": null,
            "flex": null,
            "flex_flow": null,
            "grid_area": null,
            "grid_auto_columns": null,
            "grid_auto_flow": null,
            "grid_auto_rows": null,
            "grid_column": null,
            "grid_gap": null,
            "grid_row": null,
            "grid_template_areas": null,
            "grid_template_columns": null,
            "grid_template_rows": null,
            "height": null,
            "justify_content": null,
            "justify_items": null,
            "left": null,
            "margin": null,
            "max_height": null,
            "max_width": null,
            "min_height": null,
            "min_width": null,
            "object_fit": null,
            "object_position": null,
            "order": null,
            "overflow": null,
            "overflow_x": null,
            "overflow_y": null,
            "padding": null,
            "right": null,
            "top": null,
            "visibility": null,
            "width": null
          }
        },
        "11e6cf79dfee4638a1cbf31b762190e7": {
          "model_module": "@jupyter-widgets/base",
          "model_name": "LayoutModel",
          "model_module_version": "1.2.0",
          "state": {
            "_model_module": "@jupyter-widgets/base",
            "_model_module_version": "1.2.0",
            "_model_name": "LayoutModel",
            "_view_count": null,
            "_view_module": "@jupyter-widgets/base",
            "_view_module_version": "1.2.0",
            "_view_name": "LayoutView",
            "align_content": null,
            "align_items": null,
            "align_self": null,
            "border": null,
            "bottom": null,
            "display": null,
            "flex": null,
            "flex_flow": null,
            "grid_area": null,
            "grid_auto_columns": null,
            "grid_auto_flow": null,
            "grid_auto_rows": null,
            "grid_column": null,
            "grid_gap": null,
            "grid_row": null,
            "grid_template_areas": null,
            "grid_template_columns": null,
            "grid_template_rows": null,
            "height": null,
            "justify_content": null,
            "justify_items": null,
            "left": null,
            "margin": null,
            "max_height": null,
            "max_width": null,
            "min_height": null,
            "min_width": null,
            "object_fit": null,
            "object_position": null,
            "order": null,
            "overflow": null,
            "overflow_x": null,
            "overflow_y": null,
            "padding": null,
            "right": null,
            "top": null,
            "visibility": null,
            "width": null
          }
        },
        "6f878c8b95ca4f69ab669f639a63a457": {
          "model_module": "@jupyter-widgets/controls",
          "model_name": "DescriptionStyleModel",
          "model_module_version": "1.5.0",
          "state": {
            "_model_module": "@jupyter-widgets/controls",
            "_model_module_version": "1.5.0",
            "_model_name": "DescriptionStyleModel",
            "_view_count": null,
            "_view_module": "@jupyter-widgets/base",
            "_view_module_version": "1.2.0",
            "_view_name": "StyleView",
            "description_width": ""
          }
        },
        "6a33c37cb0b343b0962a0bf029f66445": {
          "model_module": "@jupyter-widgets/base",
          "model_name": "LayoutModel",
          "model_module_version": "1.2.0",
          "state": {
            "_model_module": "@jupyter-widgets/base",
            "_model_module_version": "1.2.0",
            "_model_name": "LayoutModel",
            "_view_count": null,
            "_view_module": "@jupyter-widgets/base",
            "_view_module_version": "1.2.0",
            "_view_name": "LayoutView",
            "align_content": null,
            "align_items": null,
            "align_self": null,
            "border": null,
            "bottom": null,
            "display": null,
            "flex": null,
            "flex_flow": null,
            "grid_area": null,
            "grid_auto_columns": null,
            "grid_auto_flow": null,
            "grid_auto_rows": null,
            "grid_column": null,
            "grid_gap": null,
            "grid_row": null,
            "grid_template_areas": null,
            "grid_template_columns": null,
            "grid_template_rows": null,
            "height": null,
            "justify_content": null,
            "justify_items": null,
            "left": null,
            "margin": null,
            "max_height": null,
            "max_width": null,
            "min_height": null,
            "min_width": null,
            "object_fit": null,
            "object_position": null,
            "order": null,
            "overflow": null,
            "overflow_x": null,
            "overflow_y": null,
            "padding": null,
            "right": null,
            "top": null,
            "visibility": null,
            "width": null
          }
        },
        "a04a2222d2bb480f97a6929bea6c3f52": {
          "model_module": "@jupyter-widgets/controls",
          "model_name": "ProgressStyleModel",
          "model_module_version": "1.5.0",
          "state": {
            "_model_module": "@jupyter-widgets/controls",
            "_model_module_version": "1.5.0",
            "_model_name": "ProgressStyleModel",
            "_view_count": null,
            "_view_module": "@jupyter-widgets/base",
            "_view_module_version": "1.2.0",
            "_view_name": "StyleView",
            "bar_color": null,
            "description_width": ""
          }
        },
        "c3518bc5257f4d1ab44468ae7c0f809d": {
          "model_module": "@jupyter-widgets/base",
          "model_name": "LayoutModel",
          "model_module_version": "1.2.0",
          "state": {
            "_model_module": "@jupyter-widgets/base",
            "_model_module_version": "1.2.0",
            "_model_name": "LayoutModel",
            "_view_count": null,
            "_view_module": "@jupyter-widgets/base",
            "_view_module_version": "1.2.0",
            "_view_name": "LayoutView",
            "align_content": null,
            "align_items": null,
            "align_self": null,
            "border": null,
            "bottom": null,
            "display": null,
            "flex": null,
            "flex_flow": null,
            "grid_area": null,
            "grid_auto_columns": null,
            "grid_auto_flow": null,
            "grid_auto_rows": null,
            "grid_column": null,
            "grid_gap": null,
            "grid_row": null,
            "grid_template_areas": null,
            "grid_template_columns": null,
            "grid_template_rows": null,
            "height": null,
            "justify_content": null,
            "justify_items": null,
            "left": null,
            "margin": null,
            "max_height": null,
            "max_width": null,
            "min_height": null,
            "min_width": null,
            "object_fit": null,
            "object_position": null,
            "order": null,
            "overflow": null,
            "overflow_x": null,
            "overflow_y": null,
            "padding": null,
            "right": null,
            "top": null,
            "visibility": null,
            "width": null
          }
        },
        "55cc78f547104681989dc691bf975207": {
          "model_module": "@jupyter-widgets/controls",
          "model_name": "DescriptionStyleModel",
          "model_module_version": "1.5.0",
          "state": {
            "_model_module": "@jupyter-widgets/controls",
            "_model_module_version": "1.5.0",
            "_model_name": "DescriptionStyleModel",
            "_view_count": null,
            "_view_module": "@jupyter-widgets/base",
            "_view_module_version": "1.2.0",
            "_view_name": "StyleView",
            "description_width": ""
          }
        },
        "f15f426101a24e5e860a723f456929fb": {
          "model_module": "@jupyter-widgets/controls",
          "model_name": "HBoxModel",
          "model_module_version": "1.5.0",
          "state": {
            "_dom_classes": [],
            "_model_module": "@jupyter-widgets/controls",
            "_model_module_version": "1.5.0",
            "_model_name": "HBoxModel",
            "_view_count": null,
            "_view_module": "@jupyter-widgets/controls",
            "_view_module_version": "1.5.0",
            "_view_name": "HBoxView",
            "box_style": "",
            "children": [
              "IPY_MODEL_c05a1e03658145efa155eed40501905f",
              "IPY_MODEL_42f3c2ce193d481181fa7a7960dd9dae",
              "IPY_MODEL_33d825fd577d4db4bec85f2bd9312ae5"
            ],
            "layout": "IPY_MODEL_b3a94acc8f48491386a5c32b2ad94ec4"
          }
        },
        "c05a1e03658145efa155eed40501905f": {
          "model_module": "@jupyter-widgets/controls",
          "model_name": "HTMLModel",
          "model_module_version": "1.5.0",
          "state": {
            "_dom_classes": [],
            "_model_module": "@jupyter-widgets/controls",
            "_model_module_version": "1.5.0",
            "_model_name": "HTMLModel",
            "_view_count": null,
            "_view_module": "@jupyter-widgets/controls",
            "_view_module_version": "1.5.0",
            "_view_name": "HTMLView",
            "description": "",
            "description_tooltip": null,
            "layout": "IPY_MODEL_3e576e7d854541d99c366499853bd85a",
            "placeholder": "​",
            "style": "IPY_MODEL_e52a6a398da347088ab40e9123f59f10",
            "value": "100%"
          }
        },
        "42f3c2ce193d481181fa7a7960dd9dae": {
          "model_module": "@jupyter-widgets/controls",
          "model_name": "FloatProgressModel",
          "model_module_version": "1.5.0",
          "state": {
            "_dom_classes": [],
            "_model_module": "@jupyter-widgets/controls",
            "_model_module_version": "1.5.0",
            "_model_name": "FloatProgressModel",
            "_view_count": null,
            "_view_module": "@jupyter-widgets/controls",
            "_view_module_version": "1.5.0",
            "_view_name": "ProgressView",
            "bar_style": "success",
            "description": "",
            "description_tooltip": null,
            "layout": "IPY_MODEL_47acafbd986f457d87b457a19ea23ba6",
            "max": 170498071,
            "min": 0,
            "orientation": "horizontal",
            "style": "IPY_MODEL_3f55db11a61e4b9dbc88a7024c262a49",
            "value": 170498071
          }
        },
        "33d825fd577d4db4bec85f2bd9312ae5": {
          "model_module": "@jupyter-widgets/controls",
          "model_name": "HTMLModel",
          "model_module_version": "1.5.0",
          "state": {
            "_dom_classes": [],
            "_model_module": "@jupyter-widgets/controls",
            "_model_module_version": "1.5.0",
            "_model_name": "HTMLModel",
            "_view_count": null,
            "_view_module": "@jupyter-widgets/controls",
            "_view_module_version": "1.5.0",
            "_view_name": "HTMLView",
            "description": "",
            "description_tooltip": null,
            "layout": "IPY_MODEL_ebac89ff5ae24db1824edc283f9c740c",
            "placeholder": "​",
            "style": "IPY_MODEL_f249987155ba44de9b1d8f3418eb1bd6",
            "value": " 170498071/170498071 [00:03&lt;00:00, 53942619.71it/s]"
          }
        },
        "b3a94acc8f48491386a5c32b2ad94ec4": {
          "model_module": "@jupyter-widgets/base",
          "model_name": "LayoutModel",
          "model_module_version": "1.2.0",
          "state": {
            "_model_module": "@jupyter-widgets/base",
            "_model_module_version": "1.2.0",
            "_model_name": "LayoutModel",
            "_view_count": null,
            "_view_module": "@jupyter-widgets/base",
            "_view_module_version": "1.2.0",
            "_view_name": "LayoutView",
            "align_content": null,
            "align_items": null,
            "align_self": null,
            "border": null,
            "bottom": null,
            "display": null,
            "flex": null,
            "flex_flow": null,
            "grid_area": null,
            "grid_auto_columns": null,
            "grid_auto_flow": null,
            "grid_auto_rows": null,
            "grid_column": null,
            "grid_gap": null,
            "grid_row": null,
            "grid_template_areas": null,
            "grid_template_columns": null,
            "grid_template_rows": null,
            "height": null,
            "justify_content": null,
            "justify_items": null,
            "left": null,
            "margin": null,
            "max_height": null,
            "max_width": null,
            "min_height": null,
            "min_width": null,
            "object_fit": null,
            "object_position": null,
            "order": null,
            "overflow": null,
            "overflow_x": null,
            "overflow_y": null,
            "padding": null,
            "right": null,
            "top": null,
            "visibility": null,
            "width": null
          }
        },
        "3e576e7d854541d99c366499853bd85a": {
          "model_module": "@jupyter-widgets/base",
          "model_name": "LayoutModel",
          "model_module_version": "1.2.0",
          "state": {
            "_model_module": "@jupyter-widgets/base",
            "_model_module_version": "1.2.0",
            "_model_name": "LayoutModel",
            "_view_count": null,
            "_view_module": "@jupyter-widgets/base",
            "_view_module_version": "1.2.0",
            "_view_name": "LayoutView",
            "align_content": null,
            "align_items": null,
            "align_self": null,
            "border": null,
            "bottom": null,
            "display": null,
            "flex": null,
            "flex_flow": null,
            "grid_area": null,
            "grid_auto_columns": null,
            "grid_auto_flow": null,
            "grid_auto_rows": null,
            "grid_column": null,
            "grid_gap": null,
            "grid_row": null,
            "grid_template_areas": null,
            "grid_template_columns": null,
            "grid_template_rows": null,
            "height": null,
            "justify_content": null,
            "justify_items": null,
            "left": null,
            "margin": null,
            "max_height": null,
            "max_width": null,
            "min_height": null,
            "min_width": null,
            "object_fit": null,
            "object_position": null,
            "order": null,
            "overflow": null,
            "overflow_x": null,
            "overflow_y": null,
            "padding": null,
            "right": null,
            "top": null,
            "visibility": null,
            "width": null
          }
        },
        "e52a6a398da347088ab40e9123f59f10": {
          "model_module": "@jupyter-widgets/controls",
          "model_name": "DescriptionStyleModel",
          "model_module_version": "1.5.0",
          "state": {
            "_model_module": "@jupyter-widgets/controls",
            "_model_module_version": "1.5.0",
            "_model_name": "DescriptionStyleModel",
            "_view_count": null,
            "_view_module": "@jupyter-widgets/base",
            "_view_module_version": "1.2.0",
            "_view_name": "StyleView",
            "description_width": ""
          }
        },
        "47acafbd986f457d87b457a19ea23ba6": {
          "model_module": "@jupyter-widgets/base",
          "model_name": "LayoutModel",
          "model_module_version": "1.2.0",
          "state": {
            "_model_module": "@jupyter-widgets/base",
            "_model_module_version": "1.2.0",
            "_model_name": "LayoutModel",
            "_view_count": null,
            "_view_module": "@jupyter-widgets/base",
            "_view_module_version": "1.2.0",
            "_view_name": "LayoutView",
            "align_content": null,
            "align_items": null,
            "align_self": null,
            "border": null,
            "bottom": null,
            "display": null,
            "flex": null,
            "flex_flow": null,
            "grid_area": null,
            "grid_auto_columns": null,
            "grid_auto_flow": null,
            "grid_auto_rows": null,
            "grid_column": null,
            "grid_gap": null,
            "grid_row": null,
            "grid_template_areas": null,
            "grid_template_columns": null,
            "grid_template_rows": null,
            "height": null,
            "justify_content": null,
            "justify_items": null,
            "left": null,
            "margin": null,
            "max_height": null,
            "max_width": null,
            "min_height": null,
            "min_width": null,
            "object_fit": null,
            "object_position": null,
            "order": null,
            "overflow": null,
            "overflow_x": null,
            "overflow_y": null,
            "padding": null,
            "right": null,
            "top": null,
            "visibility": null,
            "width": null
          }
        },
        "3f55db11a61e4b9dbc88a7024c262a49": {
          "model_module": "@jupyter-widgets/controls",
          "model_name": "ProgressStyleModel",
          "model_module_version": "1.5.0",
          "state": {
            "_model_module": "@jupyter-widgets/controls",
            "_model_module_version": "1.5.0",
            "_model_name": "ProgressStyleModel",
            "_view_count": null,
            "_view_module": "@jupyter-widgets/base",
            "_view_module_version": "1.2.0",
            "_view_name": "StyleView",
            "bar_color": null,
            "description_width": ""
          }
        },
        "ebac89ff5ae24db1824edc283f9c740c": {
          "model_module": "@jupyter-widgets/base",
          "model_name": "LayoutModel",
          "model_module_version": "1.2.0",
          "state": {
            "_model_module": "@jupyter-widgets/base",
            "_model_module_version": "1.2.0",
            "_model_name": "LayoutModel",
            "_view_count": null,
            "_view_module": "@jupyter-widgets/base",
            "_view_module_version": "1.2.0",
            "_view_name": "LayoutView",
            "align_content": null,
            "align_items": null,
            "align_self": null,
            "border": null,
            "bottom": null,
            "display": null,
            "flex": null,
            "flex_flow": null,
            "grid_area": null,
            "grid_auto_columns": null,
            "grid_auto_flow": null,
            "grid_auto_rows": null,
            "grid_column": null,
            "grid_gap": null,
            "grid_row": null,
            "grid_template_areas": null,
            "grid_template_columns": null,
            "grid_template_rows": null,
            "height": null,
            "justify_content": null,
            "justify_items": null,
            "left": null,
            "margin": null,
            "max_height": null,
            "max_width": null,
            "min_height": null,
            "min_width": null,
            "object_fit": null,
            "object_position": null,
            "order": null,
            "overflow": null,
            "overflow_x": null,
            "overflow_y": null,
            "padding": null,
            "right": null,
            "top": null,
            "visibility": null,
            "width": null
          }
        },
        "f249987155ba44de9b1d8f3418eb1bd6": {
          "model_module": "@jupyter-widgets/controls",
          "model_name": "DescriptionStyleModel",
          "model_module_version": "1.5.0",
          "state": {
            "_model_module": "@jupyter-widgets/controls",
            "_model_module_version": "1.5.0",
            "_model_name": "DescriptionStyleModel",
            "_view_count": null,
            "_view_module": "@jupyter-widgets/base",
            "_view_module_version": "1.2.0",
            "_view_name": "StyleView",
            "description_width": ""
          }
        }
      }
    }
  },
  "nbformat": 4,
  "nbformat_minor": 0
}